{
 "cells": [
  {
   "cell_type": "markdown",
   "metadata": {},
   "source": [
    "# Predictive Modeling\n",
    "---"
   ]
  },
  {
   "cell_type": "markdown",
   "metadata": {},
   "source": [
    "## Libraries"
   ]
  },
  {
   "cell_type": "code",
   "execution_count": 56,
   "metadata": {},
   "outputs": [],
   "source": [
    "import sklearn\n",
    "import pandas as pd\n",
    "\n",
    "from sklearn.naive_bayes import GaussianNB\n",
    "from sklearn.naive_bayes import BernoulliNB\n",
    "from sklearn.naive_bayes import MultinomialNB\n",
    "\n",
    "from sklearn import tree\n",
    "\n",
    "from sklearn.ensemble import RandomForestClassifier\n",
    "\n",
    "from sklearn import model_selection\n",
    "from sklearn.model_selection import train_test_split\n",
    "from sklearn.model_selection import GridSearchCV\n",
    "from sklearn.model_selection import KFold\n",
    "\n",
    "from sklearn import metrics\n",
    "from sklearn.metrics import classification_report\n",
    "from sklearn.metrics import confusion_matrix\n",
    "from sklearn.metrics import accuracy_score\n",
    "\n",
    "from sklearn import cross_validation \n",
    "from sklearn.cross_validation import KFold\n",
    "from sklearn.cross_validation import cross_val_score\n",
    "from sklearn.cross_validation import cross_val_predict"
   ]
  },
  {
   "cell_type": "markdown",
   "metadata": {},
   "source": [
    "## Import Data and Repeat Data Cleanup"
   ]
  },
  {
   "cell_type": "code",
   "execution_count": 24,
   "metadata": {},
   "outputs": [],
   "source": [
    "bank_marketing = pd.read_csv(\"bank_marketing.csv\")\n",
    "processed_bank_marketing = bank_marketing.drop(columns=['default', 'poutcome', 'contact', 'month'])\n",
    "processed_bank_marketing['total_contact'] = processed_bank_marketing['previous'] + processed_bank_marketing['campaign']\n",
    "processed_bank_marketing = processed_bank_marketing.drop(columns=['previous', 'campaign', 'pdays'])\n",
    "binary_response_map = {'yes':1, 'no':0}\n",
    "processed_bank_marketing['success'] = processed_bank_marketing['y'].map(binary_response_map)\n",
    "processed_bank_marketing['housing'] = processed_bank_marketing['housing'].map(binary_response_map)\n",
    "processed_bank_marketing['loan'] = processed_bank_marketing['loan'].map(binary_response_map)\n",
    "processed_bank_marketing = processed_bank_marketing.drop(columns=['y'])\n",
    "processed_bank_marketing=pd.get_dummies(data=processed_bank_marketing, columns=['job','marital','education'], \n",
    "              prefix=['job','marital','education'])"
   ]
  },
  {
   "cell_type": "markdown",
   "metadata": {},
   "source": [
    "## Train Model"
   ]
  },
  {
   "cell_type": "markdown",
   "metadata": {},
   "source": [
    "### Decision Tree"
   ]
  },
  {
   "cell_type": "code",
   "execution_count": 50,
   "metadata": {},
   "outputs": [
    {
     "name": "stdout",
     "output_type": "stream",
     "text": [
      "Training score:  0.9582411504424779\n",
      "Testing score:  0.9602209944751381\n"
     ]
    }
   ],
   "source": [
    "test_size = 0.2\n",
    "seed = 5\n",
    "data = processed_bank_marketing.values\n",
    "X = data[:,:-1] # Features\n",
    "X\n",
    "Y = data[:, -1] # Dependent Variable\n",
    "X_train, X_test, y_train, y_test = model_selection.train_test_split(X, Y, test_size=test_size, random_state=seed)\n",
    "dt2 = tree.DecisionTreeClassifier(random_state=1, max_depth=2)\n",
    "dt2.fit(X_train, y_train)\n",
    "dt2_score_train = dt2.score(X_train, y_train)\n",
    "print(\"Training score: \",dt2_score_train)\n",
    "dt2_score_test = dt2.score(X_test, y_test)\n",
    "print(\"Testing score: \",dt2_score_test)"
   ]
  },
  {
   "cell_type": "markdown",
   "metadata": {},
   "source": [
    "### Random Forest"
   ]
  },
  {
   "cell_type": "code",
   "execution_count": 48,
   "metadata": {},
   "outputs": [
    {
     "name": "stdout",
     "output_type": "stream",
     "text": [
      "Accuracy: 0.9977900552486187\n",
      "Precision: 0.9988518943742825\n",
      "Recall: 0.9722222222222222\n"
     ]
    }
   ],
   "source": [
    "rf = RandomForestClassifier(n_estimators = 50, random_state = seed)\n",
    "rf.fit(X_train, y_train)\n",
    "rf_pred=rf.predict(X_test)\n",
    "print('Accuracy:',metrics.accuracy_score(y_test,rf_pred))\n",
    "print('Precision:', metrics.precision_score(y_test,rf_pred,average='macro'))\n",
    "print('Recall:', metrics.recall_score(y_test,rf_pred,average='macro'))"
   ]
  },
  {
   "cell_type": "markdown",
   "metadata": {},
   "source": [
    "### Gaussian Naive Bayes"
   ]
  },
  {
   "cell_type": "code",
   "execution_count": 51,
   "metadata": {},
   "outputs": [
    {
     "name": "stdout",
     "output_type": "stream",
     "text": [
      "Accuracy: 0.9911602209944751\n",
      "Precision: 0.9954389965792474\n",
      "Recall: 0.8888888888888888\n"
     ]
    }
   ],
   "source": [
    "clf = GaussianNB()\n",
    "clf.fit(X_train,y_train)\n",
    "pred=clf.predict(X_test)\n",
    "acc=accuracy_score(pred, y_test)\n",
    "print('Accuracy:',metrics.accuracy_score(y_test,pred))\n",
    "print('Precision:', metrics.precision_score(y_test,pred,average='macro'))\n",
    "print('Recall:', metrics.recall_score(y_test,pred,average='macro'))"
   ]
  },
  {
   "cell_type": "markdown",
   "metadata": {},
   "source": [
    "### Cross Validation"
   ]
  },
  {
   "cell_type": "code",
   "execution_count": 76,
   "metadata": {},
   "outputs": [],
   "source": [
    "clf = GaussianNB()"
   ]
  },
  {
   "cell_type": "code",
   "execution_count": 83,
   "metadata": {},
   "outputs": [
    {
     "name": "stdout",
     "output_type": "stream",
     "text": [
      "[0.98898072 0.99447514 0.98895028 1.         0.99171271 0.99445983\n",
      " 0.99445983 0.99722992 0.99168975 0.99168975]\n"
     ]
    }
   ],
   "source": [
    "print(cross_val_score(clf, X_train, y_train, scoring='accuracy', cv = 10))"
   ]
  },
  {
   "cell_type": "code",
   "execution_count": 78,
   "metadata": {},
   "outputs": [],
   "source": [
    "accuracy = cross_val_score(clf, X_train, y_train, scoring='accuracy', cv = 10).mean() * 100"
   ]
  },
  {
   "cell_type": "code",
   "execution_count": 79,
   "metadata": {},
   "outputs": [
    {
     "data": {
      "text/plain": [
       "99.33647923672983"
      ]
     },
     "execution_count": 79,
     "metadata": {},
     "output_type": "execute_result"
    }
   ],
   "source": [
    "accuracy"
   ]
  },
  {
   "cell_type": "code",
   "execution_count": null,
   "metadata": {},
   "outputs": [],
   "source": []
  },
  {
   "cell_type": "code",
   "execution_count": null,
   "metadata": {},
   "outputs": [],
   "source": []
  }
 ],
 "metadata": {
  "kernelspec": {
   "display_name": "Python 3",
   "language": "python",
   "name": "python3"
  },
  "language_info": {
   "codemirror_mode": {
    "name": "ipython",
    "version": 3
   },
   "file_extension": ".py",
   "mimetype": "text/x-python",
   "name": "python",
   "nbconvert_exporter": "python",
   "pygments_lexer": "ipython3",
   "version": "3.6.5"
  }
 },
 "nbformat": 4,
 "nbformat_minor": 2
}
