{
 "cells": [
  {
   "cell_type": "code",
   "execution_count": 1,
   "metadata": {},
   "outputs": [],
   "source": [
    "import numpy as np\n",
    "import pandas as pd\n",
    "import seaborn as sns\n",
    "import matplotlib.pyplot as plt\n",
    "%matplotlib inline"
   ]
  },
  {
   "cell_type": "markdown",
   "metadata": {},
   "source": [
    "## Load data and look at some of the high level stats\n",
    "    1. data type\n",
    "    2. find any null values\n",
    "    3. print summary stats for all variables"
   ]
  },
  {
   "cell_type": "code",
   "execution_count": 2,
   "metadata": {},
   "outputs": [
    {
     "data": {
      "text/html": [
       "<div>\n",
       "<style scoped>\n",
       "    .dataframe tbody tr th:only-of-type {\n",
       "        vertical-align: middle;\n",
       "    }\n",
       "\n",
       "    .dataframe tbody tr th {\n",
       "        vertical-align: top;\n",
       "    }\n",
       "\n",
       "    .dataframe thead th {\n",
       "        text-align: right;\n",
       "    }\n",
       "</style>\n",
       "<table border=\"1\" class=\"dataframe\">\n",
       "  <thead>\n",
       "    <tr style=\"text-align: right;\">\n",
       "      <th></th>\n",
       "      <th>age</th>\n",
       "      <th>job</th>\n",
       "      <th>marital</th>\n",
       "      <th>education</th>\n",
       "      <th>default</th>\n",
       "      <th>balance</th>\n",
       "      <th>housing</th>\n",
       "      <th>loan</th>\n",
       "      <th>contact</th>\n",
       "      <th>day</th>\n",
       "      <th>month</th>\n",
       "      <th>duration</th>\n",
       "      <th>campaign</th>\n",
       "      <th>pdays</th>\n",
       "      <th>previous</th>\n",
       "      <th>poutcome</th>\n",
       "      <th>y</th>\n",
       "    </tr>\n",
       "  </thead>\n",
       "  <tbody>\n",
       "    <tr>\n",
       "      <th>0</th>\n",
       "      <td>30</td>\n",
       "      <td>unemployed</td>\n",
       "      <td>married</td>\n",
       "      <td>primary</td>\n",
       "      <td>no</td>\n",
       "      <td>1787</td>\n",
       "      <td>no</td>\n",
       "      <td>no</td>\n",
       "      <td>cellular</td>\n",
       "      <td>19</td>\n",
       "      <td>oct</td>\n",
       "      <td>79</td>\n",
       "      <td>1</td>\n",
       "      <td>-1</td>\n",
       "      <td>0</td>\n",
       "      <td>unknown</td>\n",
       "      <td>no</td>\n",
       "    </tr>\n",
       "    <tr>\n",
       "      <th>1</th>\n",
       "      <td>33</td>\n",
       "      <td>services</td>\n",
       "      <td>married</td>\n",
       "      <td>secondary</td>\n",
       "      <td>no</td>\n",
       "      <td>4789</td>\n",
       "      <td>yes</td>\n",
       "      <td>yes</td>\n",
       "      <td>cellular</td>\n",
       "      <td>11</td>\n",
       "      <td>may</td>\n",
       "      <td>220</td>\n",
       "      <td>1</td>\n",
       "      <td>339</td>\n",
       "      <td>4</td>\n",
       "      <td>failure</td>\n",
       "      <td>no</td>\n",
       "    </tr>\n",
       "    <tr>\n",
       "      <th>2</th>\n",
       "      <td>35</td>\n",
       "      <td>management</td>\n",
       "      <td>single</td>\n",
       "      <td>tertiary</td>\n",
       "      <td>no</td>\n",
       "      <td>1350</td>\n",
       "      <td>yes</td>\n",
       "      <td>no</td>\n",
       "      <td>cellular</td>\n",
       "      <td>16</td>\n",
       "      <td>apr</td>\n",
       "      <td>185</td>\n",
       "      <td>1</td>\n",
       "      <td>330</td>\n",
       "      <td>1</td>\n",
       "      <td>failure</td>\n",
       "      <td>no</td>\n",
       "    </tr>\n",
       "    <tr>\n",
       "      <th>3</th>\n",
       "      <td>30</td>\n",
       "      <td>management</td>\n",
       "      <td>married</td>\n",
       "      <td>tertiary</td>\n",
       "      <td>no</td>\n",
       "      <td>1476</td>\n",
       "      <td>yes</td>\n",
       "      <td>yes</td>\n",
       "      <td>unknown</td>\n",
       "      <td>3</td>\n",
       "      <td>jun</td>\n",
       "      <td>199</td>\n",
       "      <td>4</td>\n",
       "      <td>-1</td>\n",
       "      <td>0</td>\n",
       "      <td>unknown</td>\n",
       "      <td>no</td>\n",
       "    </tr>\n",
       "    <tr>\n",
       "      <th>4</th>\n",
       "      <td>59</td>\n",
       "      <td>blue-collar</td>\n",
       "      <td>married</td>\n",
       "      <td>secondary</td>\n",
       "      <td>no</td>\n",
       "      <td>0</td>\n",
       "      <td>yes</td>\n",
       "      <td>no</td>\n",
       "      <td>unknown</td>\n",
       "      <td>5</td>\n",
       "      <td>may</td>\n",
       "      <td>226</td>\n",
       "      <td>1</td>\n",
       "      <td>-1</td>\n",
       "      <td>0</td>\n",
       "      <td>unknown</td>\n",
       "      <td>no</td>\n",
       "    </tr>\n",
       "  </tbody>\n",
       "</table>\n",
       "</div>"
      ],
      "text/plain": [
       "   age          job  marital  education default  balance housing loan  \\\n",
       "0   30   unemployed  married    primary      no     1787      no   no   \n",
       "1   33     services  married  secondary      no     4789     yes  yes   \n",
       "2   35   management   single   tertiary      no     1350     yes   no   \n",
       "3   30   management  married   tertiary      no     1476     yes  yes   \n",
       "4   59  blue-collar  married  secondary      no        0     yes   no   \n",
       "\n",
       "    contact  day month  duration  campaign  pdays  previous poutcome   y  \n",
       "0  cellular   19   oct        79         1     -1         0  unknown  no  \n",
       "1  cellular   11   may       220         1    339         4  failure  no  \n",
       "2  cellular   16   apr       185         1    330         1  failure  no  \n",
       "3   unknown    3   jun       199         4     -1         0  unknown  no  \n",
       "4   unknown    5   may       226         1     -1         0  unknown  no  "
      ]
     },
     "execution_count": 2,
     "metadata": {},
     "output_type": "execute_result"
    }
   ],
   "source": [
    "full_df = pd.read_csv('bank_marketing.csv')\n",
    "full_df.head()"
   ]
  },
  {
   "cell_type": "code",
   "execution_count": 3,
   "metadata": {},
   "outputs": [
    {
     "name": "stdout",
     "output_type": "stream",
     "text": [
      "<class 'pandas.core.frame.DataFrame'>\n",
      "RangeIndex: 4521 entries, 0 to 4520\n",
      "Data columns (total 17 columns):\n",
      "age          4521 non-null int64\n",
      "job          4521 non-null object\n",
      "marital      4521 non-null object\n",
      "education    4521 non-null object\n",
      "default      4521 non-null object\n",
      "balance      4521 non-null int64\n",
      "housing      4521 non-null object\n",
      "loan         4521 non-null object\n",
      "contact      4521 non-null object\n",
      "day          4521 non-null int64\n",
      "month        4521 non-null object\n",
      "duration     4521 non-null int64\n",
      "campaign     4521 non-null int64\n",
      "pdays        4521 non-null int64\n",
      "previous     4521 non-null int64\n",
      "poutcome     4521 non-null object\n",
      "y            4521 non-null object\n",
      "dtypes: int64(7), object(10)\n",
      "memory usage: 600.5+ KB\n"
     ]
    }
   ],
   "source": [
    "full_df.info()"
   ]
  },
  {
   "cell_type": "code",
   "execution_count": 4,
   "metadata": {},
   "outputs": [
    {
     "data": {
      "text/plain": [
       "age          0\n",
       "job          0\n",
       "marital      0\n",
       "education    0\n",
       "default      0\n",
       "balance      0\n",
       "housing      0\n",
       "loan         0\n",
       "contact      0\n",
       "day          0\n",
       "month        0\n",
       "duration     0\n",
       "campaign     0\n",
       "pdays        0\n",
       "previous     0\n",
       "poutcome     0\n",
       "y            0\n",
       "dtype: int64"
      ]
     },
     "execution_count": 4,
     "metadata": {},
     "output_type": "execute_result"
    }
   ],
   "source": [
    "full_df.isna().sum()"
   ]
  },
  {
   "cell_type": "code",
   "execution_count": 5,
   "metadata": {},
   "outputs": [
    {
     "data": {
      "text/html": [
       "<div>\n",
       "<style scoped>\n",
       "    .dataframe tbody tr th:only-of-type {\n",
       "        vertical-align: middle;\n",
       "    }\n",
       "\n",
       "    .dataframe tbody tr th {\n",
       "        vertical-align: top;\n",
       "    }\n",
       "\n",
       "    .dataframe thead th {\n",
       "        text-align: right;\n",
       "    }\n",
       "</style>\n",
       "<table border=\"1\" class=\"dataframe\">\n",
       "  <thead>\n",
       "    <tr style=\"text-align: right;\">\n",
       "      <th></th>\n",
       "      <th>age</th>\n",
       "      <th>balance</th>\n",
       "      <th>day</th>\n",
       "      <th>duration</th>\n",
       "      <th>campaign</th>\n",
       "      <th>pdays</th>\n",
       "      <th>previous</th>\n",
       "    </tr>\n",
       "  </thead>\n",
       "  <tbody>\n",
       "    <tr>\n",
       "      <th>count</th>\n",
       "      <td>4521.000000</td>\n",
       "      <td>4521.000000</td>\n",
       "      <td>4521.000000</td>\n",
       "      <td>4521.000000</td>\n",
       "      <td>4521.000000</td>\n",
       "      <td>4521.000000</td>\n",
       "      <td>4521.000000</td>\n",
       "    </tr>\n",
       "    <tr>\n",
       "      <th>mean</th>\n",
       "      <td>41.170095</td>\n",
       "      <td>1422.657819</td>\n",
       "      <td>15.915284</td>\n",
       "      <td>263.961292</td>\n",
       "      <td>2.793630</td>\n",
       "      <td>39.766645</td>\n",
       "      <td>0.542579</td>\n",
       "    </tr>\n",
       "    <tr>\n",
       "      <th>std</th>\n",
       "      <td>10.576211</td>\n",
       "      <td>3009.638142</td>\n",
       "      <td>8.247667</td>\n",
       "      <td>259.856633</td>\n",
       "      <td>3.109807</td>\n",
       "      <td>100.121124</td>\n",
       "      <td>1.693562</td>\n",
       "    </tr>\n",
       "    <tr>\n",
       "      <th>min</th>\n",
       "      <td>19.000000</td>\n",
       "      <td>-3313.000000</td>\n",
       "      <td>1.000000</td>\n",
       "      <td>4.000000</td>\n",
       "      <td>1.000000</td>\n",
       "      <td>-1.000000</td>\n",
       "      <td>0.000000</td>\n",
       "    </tr>\n",
       "    <tr>\n",
       "      <th>25%</th>\n",
       "      <td>33.000000</td>\n",
       "      <td>69.000000</td>\n",
       "      <td>9.000000</td>\n",
       "      <td>104.000000</td>\n",
       "      <td>1.000000</td>\n",
       "      <td>-1.000000</td>\n",
       "      <td>0.000000</td>\n",
       "    </tr>\n",
       "    <tr>\n",
       "      <th>50%</th>\n",
       "      <td>39.000000</td>\n",
       "      <td>444.000000</td>\n",
       "      <td>16.000000</td>\n",
       "      <td>185.000000</td>\n",
       "      <td>2.000000</td>\n",
       "      <td>-1.000000</td>\n",
       "      <td>0.000000</td>\n",
       "    </tr>\n",
       "    <tr>\n",
       "      <th>75%</th>\n",
       "      <td>49.000000</td>\n",
       "      <td>1480.000000</td>\n",
       "      <td>21.000000</td>\n",
       "      <td>329.000000</td>\n",
       "      <td>3.000000</td>\n",
       "      <td>-1.000000</td>\n",
       "      <td>0.000000</td>\n",
       "    </tr>\n",
       "    <tr>\n",
       "      <th>max</th>\n",
       "      <td>87.000000</td>\n",
       "      <td>71188.000000</td>\n",
       "      <td>31.000000</td>\n",
       "      <td>3025.000000</td>\n",
       "      <td>50.000000</td>\n",
       "      <td>871.000000</td>\n",
       "      <td>25.000000</td>\n",
       "    </tr>\n",
       "  </tbody>\n",
       "</table>\n",
       "</div>"
      ],
      "text/plain": [
       "               age       balance          day     duration     campaign  \\\n",
       "count  4521.000000   4521.000000  4521.000000  4521.000000  4521.000000   \n",
       "mean     41.170095   1422.657819    15.915284   263.961292     2.793630   \n",
       "std      10.576211   3009.638142     8.247667   259.856633     3.109807   \n",
       "min      19.000000  -3313.000000     1.000000     4.000000     1.000000   \n",
       "25%      33.000000     69.000000     9.000000   104.000000     1.000000   \n",
       "50%      39.000000    444.000000    16.000000   185.000000     2.000000   \n",
       "75%      49.000000   1480.000000    21.000000   329.000000     3.000000   \n",
       "max      87.000000  71188.000000    31.000000  3025.000000    50.000000   \n",
       "\n",
       "             pdays     previous  \n",
       "count  4521.000000  4521.000000  \n",
       "mean     39.766645     0.542579  \n",
       "std     100.121124     1.693562  \n",
       "min      -1.000000     0.000000  \n",
       "25%      -1.000000     0.000000  \n",
       "50%      -1.000000     0.000000  \n",
       "75%      -1.000000     0.000000  \n",
       "max     871.000000    25.000000  "
      ]
     },
     "execution_count": 5,
     "metadata": {},
     "output_type": "execute_result"
    }
   ],
   "source": [
    "full_df.describe()"
   ]
  },
  {
   "cell_type": "code",
   "execution_count": 6,
   "metadata": {},
   "outputs": [
    {
     "data": {
      "text/html": [
       "<div>\n",
       "<style scoped>\n",
       "    .dataframe tbody tr th:only-of-type {\n",
       "        vertical-align: middle;\n",
       "    }\n",
       "\n",
       "    .dataframe tbody tr th {\n",
       "        vertical-align: top;\n",
       "    }\n",
       "\n",
       "    .dataframe thead th {\n",
       "        text-align: right;\n",
       "    }\n",
       "</style>\n",
       "<table border=\"1\" class=\"dataframe\">\n",
       "  <thead>\n",
       "    <tr style=\"text-align: right;\">\n",
       "      <th></th>\n",
       "      <th>job</th>\n",
       "      <th>marital</th>\n",
       "      <th>education</th>\n",
       "      <th>default</th>\n",
       "      <th>housing</th>\n",
       "      <th>loan</th>\n",
       "      <th>contact</th>\n",
       "      <th>month</th>\n",
       "      <th>poutcome</th>\n",
       "      <th>y</th>\n",
       "    </tr>\n",
       "  </thead>\n",
       "  <tbody>\n",
       "    <tr>\n",
       "      <th>count</th>\n",
       "      <td>4521</td>\n",
       "      <td>4521</td>\n",
       "      <td>4521</td>\n",
       "      <td>4521</td>\n",
       "      <td>4521</td>\n",
       "      <td>4521</td>\n",
       "      <td>4521</td>\n",
       "      <td>4521</td>\n",
       "      <td>4521</td>\n",
       "      <td>4521</td>\n",
       "    </tr>\n",
       "    <tr>\n",
       "      <th>unique</th>\n",
       "      <td>12</td>\n",
       "      <td>3</td>\n",
       "      <td>4</td>\n",
       "      <td>2</td>\n",
       "      <td>2</td>\n",
       "      <td>2</td>\n",
       "      <td>3</td>\n",
       "      <td>12</td>\n",
       "      <td>4</td>\n",
       "      <td>2</td>\n",
       "    </tr>\n",
       "    <tr>\n",
       "      <th>top</th>\n",
       "      <td>management</td>\n",
       "      <td>married</td>\n",
       "      <td>secondary</td>\n",
       "      <td>no</td>\n",
       "      <td>yes</td>\n",
       "      <td>no</td>\n",
       "      <td>cellular</td>\n",
       "      <td>may</td>\n",
       "      <td>unknown</td>\n",
       "      <td>no</td>\n",
       "    </tr>\n",
       "    <tr>\n",
       "      <th>freq</th>\n",
       "      <td>969</td>\n",
       "      <td>2797</td>\n",
       "      <td>2306</td>\n",
       "      <td>4445</td>\n",
       "      <td>2559</td>\n",
       "      <td>3830</td>\n",
       "      <td>2896</td>\n",
       "      <td>1398</td>\n",
       "      <td>3705</td>\n",
       "      <td>4000</td>\n",
       "    </tr>\n",
       "  </tbody>\n",
       "</table>\n",
       "</div>"
      ],
      "text/plain": [
       "               job  marital  education default housing  loan   contact month  \\\n",
       "count         4521     4521       4521    4521    4521  4521      4521  4521   \n",
       "unique          12        3          4       2       2     2         3    12   \n",
       "top     management  married  secondary      no     yes    no  cellular   may   \n",
       "freq           969     2797       2306    4445    2559  3830      2896  1398   \n",
       "\n",
       "       poutcome     y  \n",
       "count      4521  4521  \n",
       "unique        4     2  \n",
       "top     unknown    no  \n",
       "freq       3705  4000  "
      ]
     },
     "execution_count": 6,
     "metadata": {},
     "output_type": "execute_result"
    }
   ],
   "source": [
    "full_df.describe(include=[np.object])"
   ]
  },
  {
   "cell_type": "markdown",
   "metadata": {},
   "source": [
    "## Data dictionary\n",
    "\n",
    "| Attribute/Variable | Description |\n",
    "|---:|---:|\n",
    "| Age | Age of customer |\n",
    "| Job | Type of job |\n",
    "| Marital | Marital status |\n",
    "| Education | Education of the customer |\n",
    "| Default | Shows whether the customer has credit in default or not |\n",
    "| Balance | Average yearly balance in Euros |\n",
    "| Housing | Shows whether the customer has housing loan or not |\n",
    "| Loan | Shows whether the customer has personal loan or not |\n",
    "| Contact | Shows how the last contact for marketing campaign has been made |\n",
    "| Day | Shows on which day of the month last time customer was contacted |\n",
    "| Month | Shows on which month of the year last time customer was contacted |\n",
    "| Duration | Shows the last contact duration in seconds |\n",
    "| Campaign | Number of contacts performed during the marketing campaign and for this customer |\n",
    "| Pdays | Number of days that passed by after the client was last contacted from aprevious campaign\tnumeric, -1 means client was not previously contacted |\n",
    "| Previous | Number of contacts performed before this campaign and for this client |\n",
    "| Poutcome | Outcome of the previous marketing campaign |\n",
    "| Y | Class attribute showing whether the client has subscribed a term deposit or not |\n",
    "\n",
    "\n",
    "\n",
    "\n",
    "## Step 1.0:\n",
    "### Early transformation\n",
    "Based on the stats above we can transform a few variables right away to save some time.<br>\n",
    "\n",
    "Convert <b>y</b> (success of campaign) to a numeric variable so we can calculate the mean value for success of campaign.<br>\n",
    "Convert <b>month</b> to numeric just so we can chart it in order 1-12.<br>\n",
    "Convert <b>duration</b> from seconds to minutes so we can interpert it a little easier.<br> "
   ]
  },
  {
   "cell_type": "code",
   "execution_count": 7,
   "metadata": {},
   "outputs": [],
   "source": [
    "full_df['success'] = full_df['y'].map({'yes':1, 'no':0})\n",
    "\n",
    "month_to_num = {'jan':1, 'feb':2, 'mar':3, 'apr':4, 'may':5, 'jun':6, 'jul':7, 'aug':8, 'sep':9, 'oct':10, 'nov':11, 'dec':12}\n",
    "full_df['month'] = full_df['month'].map(month_to_num)\n",
    "\n",
    "full_df['duration'] = full_df['duration']/60"
   ]
  },
  {
   "cell_type": "code",
   "execution_count": 9,
   "metadata": {},
   "outputs": [
    {
     "data": {
      "text/plain": [
       "0    4000\n",
       "1     521\n",
       "Name: success, dtype: int64"
      ]
     },
     "execution_count": 9,
     "metadata": {},
     "output_type": "execute_result"
    }
   ],
   "source": [
    "#unbalanced\n",
    "full_df['success'].value_counts()"
   ]
  },
  {
   "cell_type": "markdown",
   "metadata": {},
   "source": [
    "## Step 1.1:\n",
    "## Categorical variables \n",
    "\n",
    "Look at all the categorical variables and get a bar chart based on count and one based on success of campaign.  \n",
    "This will give use a better understanding of what variable may be important and what variable may be unbalanced or contain outliers.\n"
   ]
  },
  {
   "cell_type": "code",
   "execution_count": 10,
   "metadata": {},
   "outputs": [
    {
     "data": {
      "text/html": [
       "<div>\n",
       "<style scoped>\n",
       "    .dataframe tbody tr th:only-of-type {\n",
       "        vertical-align: middle;\n",
       "    }\n",
       "\n",
       "    .dataframe tbody tr th {\n",
       "        vertical-align: top;\n",
       "    }\n",
       "\n",
       "    .dataframe thead th {\n",
       "        text-align: right;\n",
       "    }\n",
       "</style>\n",
       "<table border=\"1\" class=\"dataframe\">\n",
       "  <thead>\n",
       "    <tr style=\"text-align: right;\">\n",
       "      <th></th>\n",
       "      <th>job</th>\n",
       "      <th>marital</th>\n",
       "      <th>education</th>\n",
       "      <th>default</th>\n",
       "      <th>housing</th>\n",
       "      <th>loan</th>\n",
       "      <th>contact</th>\n",
       "      <th>poutcome</th>\n",
       "      <th>y</th>\n",
       "    </tr>\n",
       "  </thead>\n",
       "  <tbody>\n",
       "    <tr>\n",
       "      <th>count</th>\n",
       "      <td>4521</td>\n",
       "      <td>4521</td>\n",
       "      <td>4521</td>\n",
       "      <td>4521</td>\n",
       "      <td>4521</td>\n",
       "      <td>4521</td>\n",
       "      <td>4521</td>\n",
       "      <td>4521</td>\n",
       "      <td>4521</td>\n",
       "    </tr>\n",
       "    <tr>\n",
       "      <th>unique</th>\n",
       "      <td>12</td>\n",
       "      <td>3</td>\n",
       "      <td>4</td>\n",
       "      <td>2</td>\n",
       "      <td>2</td>\n",
       "      <td>2</td>\n",
       "      <td>3</td>\n",
       "      <td>4</td>\n",
       "      <td>2</td>\n",
       "    </tr>\n",
       "    <tr>\n",
       "      <th>top</th>\n",
       "      <td>management</td>\n",
       "      <td>married</td>\n",
       "      <td>secondary</td>\n",
       "      <td>no</td>\n",
       "      <td>yes</td>\n",
       "      <td>no</td>\n",
       "      <td>cellular</td>\n",
       "      <td>unknown</td>\n",
       "      <td>no</td>\n",
       "    </tr>\n",
       "    <tr>\n",
       "      <th>freq</th>\n",
       "      <td>969</td>\n",
       "      <td>2797</td>\n",
       "      <td>2306</td>\n",
       "      <td>4445</td>\n",
       "      <td>2559</td>\n",
       "      <td>3830</td>\n",
       "      <td>2896</td>\n",
       "      <td>3705</td>\n",
       "      <td>4000</td>\n",
       "    </tr>\n",
       "  </tbody>\n",
       "</table>\n",
       "</div>"
      ],
      "text/plain": [
       "               job  marital  education default housing  loan   contact  \\\n",
       "count         4521     4521       4521    4521    4521  4521      4521   \n",
       "unique          12        3          4       2       2     2         3   \n",
       "top     management  married  secondary      no     yes    no  cellular   \n",
       "freq           969     2797       2306    4445    2559  3830      2896   \n",
       "\n",
       "       poutcome     y  \n",
       "count      4521  4521  \n",
       "unique        4     2  \n",
       "top     unknown    no  \n",
       "freq       3705  4000  "
      ]
     },
     "execution_count": 10,
     "metadata": {},
     "output_type": "execute_result"
    }
   ],
   "source": [
    "full_df.describe(include=[np.object])"
   ]
  },
  {
   "cell_type": "code",
   "execution_count": 11,
   "metadata": {},
   "outputs": [
    {
     "data": {
      "text/plain": [
       "<matplotlib.axes._subplots.AxesSubplot at 0x7f74996a4b00>"
      ]
     },
     "execution_count": 11,
     "metadata": {},
     "output_type": "execute_result"
    },
    {
     "data": {
      "image/png": "[encoded data removed]",
      "text/plain": [
       "<Figure size 1152x360 with 1 Axes>"
      ]
     },
     "metadata": {},
     "output_type": "display_data"
    }
   ],
   "source": [
    "plt.figure(figsize=(16,5))\n",
    "sns.countplot(x='job',hue='y',data=full_df,palette='coolwarm')"
   ]
  },
  {
   "cell_type": "code",
   "execution_count": 12,
   "metadata": {},
   "outputs": [
    {
     "data": {
      "text/plain": [
       "<matplotlib.axes._subplots.AxesSubplot at 0x7f74996bbe48>"
      ]
     },
     "execution_count": 12,
     "metadata": {},
     "output_type": "execute_result"
    },
    {
     "data": {
      "image/png": "[encoded data removed]",
      "text/plain": [
       "<Figure size 1152x360 with 1 Axes>"
      ]
     },
     "metadata": {},
     "output_type": "display_data"
    }
   ],
   "source": [
    "# A look at the job category shows that Student, Retired and Unknown have the highest rate of success \n",
    "# in opening a new account with the bank as a result of the marketing campaign.\n",
    "\n",
    "plt.figure(figsize=(16,5))\n",
    "sns.barplot(x=\"job\", y='success', data=full_df, palette='mako_r', ci=None)"
   ]
  },
  {
   "cell_type": "code",
   "execution_count": 13,
   "metadata": {},
   "outputs": [
    {
     "data": {
      "text/html": [
       "<div>\n",
       "<style scoped>\n",
       "    .dataframe tbody tr th:only-of-type {\n",
       "        vertical-align: middle;\n",
       "    }\n",
       "\n",
       "    .dataframe tbody tr th {\n",
       "        vertical-align: top;\n",
       "    }\n",
       "\n",
       "    .dataframe thead th {\n",
       "        text-align: right;\n",
       "    }\n",
       "</style>\n",
       "<table border=\"1\" class=\"dataframe\">\n",
       "  <thead>\n",
       "    <tr style=\"text-align: right;\">\n",
       "      <th></th>\n",
       "      <th>job</th>\n",
       "      <th>success</th>\n",
       "    </tr>\n",
       "  </thead>\n",
       "  <tbody>\n",
       "    <tr>\n",
       "      <th>5</th>\n",
       "      <td>retired</td>\n",
       "      <td>0.234783</td>\n",
       "    </tr>\n",
       "    <tr>\n",
       "      <th>8</th>\n",
       "      <td>student</td>\n",
       "      <td>0.226190</td>\n",
       "    </tr>\n",
       "    <tr>\n",
       "      <th>11</th>\n",
       "      <td>unknown</td>\n",
       "      <td>0.184211</td>\n",
       "    </tr>\n",
       "    <tr>\n",
       "      <th>4</th>\n",
       "      <td>management</td>\n",
       "      <td>0.135191</td>\n",
       "    </tr>\n",
       "    <tr>\n",
       "      <th>3</th>\n",
       "      <td>housemaid</td>\n",
       "      <td>0.125000</td>\n",
       "    </tr>\n",
       "    <tr>\n",
       "      <th>0</th>\n",
       "      <td>admin.</td>\n",
       "      <td>0.121339</td>\n",
       "    </tr>\n",
       "    <tr>\n",
       "      <th>6</th>\n",
       "      <td>self-employed</td>\n",
       "      <td>0.109290</td>\n",
       "    </tr>\n",
       "    <tr>\n",
       "      <th>9</th>\n",
       "      <td>technician</td>\n",
       "      <td>0.108073</td>\n",
       "    </tr>\n",
       "    <tr>\n",
       "      <th>10</th>\n",
       "      <td>unemployed</td>\n",
       "      <td>0.101562</td>\n",
       "    </tr>\n",
       "    <tr>\n",
       "      <th>7</th>\n",
       "      <td>services</td>\n",
       "      <td>0.091127</td>\n",
       "    </tr>\n",
       "    <tr>\n",
       "      <th>2</th>\n",
       "      <td>entrepreneur</td>\n",
       "      <td>0.089286</td>\n",
       "    </tr>\n",
       "    <tr>\n",
       "      <th>1</th>\n",
       "      <td>blue-collar</td>\n",
       "      <td>0.072939</td>\n",
       "    </tr>\n",
       "  </tbody>\n",
       "</table>\n",
       "</div>"
      ],
      "text/plain": [
       "              job   success\n",
       "5         retired  0.234783\n",
       "8         student  0.226190\n",
       "11        unknown  0.184211\n",
       "4      management  0.135191\n",
       "3       housemaid  0.125000\n",
       "0          admin.  0.121339\n",
       "6   self-employed  0.109290\n",
       "9      technician  0.108073\n",
       "10     unemployed  0.101562\n",
       "7        services  0.091127\n",
       "2    entrepreneur  0.089286\n",
       "1     blue-collar  0.072939"
      ]
     },
     "execution_count": 13,
     "metadata": {},
     "output_type": "execute_result"
    }
   ],
   "source": [
    "full_df[['job','success']].groupby(['job'], as_index=False).mean().sort_values(by='success', ascending=False)"
   ]
  },
  {
   "cell_type": "code",
   "execution_count": 14,
   "metadata": {},
   "outputs": [
    {
     "data": {
      "text/plain": [
       "<matplotlib.axes._subplots.AxesSubplot at 0x7f74951380b8>"
      ]
     },
     "execution_count": 14,
     "metadata": {},
     "output_type": "execute_result"
    },
    {
     "data": {
      "image/png": "[encoded data removed]",
      "text/plain": [
       "<Figure size 1080x288 with 2 Axes>"
      ]
     },
     "metadata": {},
     "output_type": "display_data"
    }
   ],
   "source": [
    "fig, axes = plt.subplots(1,2,figsize=(15,4))\n",
    "sns.countplot(x='marital',hue='y',data=full_df,palette='coolwarm',ax=axes[0])\n",
    "sns.countplot(x='education',hue='y',data=full_df,palette='coolwarm',ax=axes[1])"
   ]
  },
  {
   "cell_type": "code",
   "execution_count": 15,
   "metadata": {},
   "outputs": [
    {
     "data": {
      "text/plain": [
       "<matplotlib.axes._subplots.AxesSubplot at 0x7f7495079da0>"
      ]
     },
     "execution_count": 15,
     "metadata": {},
     "output_type": "execute_result"
    },
    {
     "data": {
      "image/png": "[encoded data removed]",
      "text/plain": [
       "<Figure size 1080x288 with 2 Axes>"
      ]
     },
     "metadata": {},
     "output_type": "display_data"
    }
   ],
   "source": [
    "fig, axes = plt.subplots(1,2,figsize=(15,4))\n",
    "sns.barplot(x='marital',y='success',data=full_df,palette='mako_r',ci=None,ax=axes[0])\n",
    "sns.barplot(x='education',y='success',data=full_df,palette='mako_r' ,ci=None,ax=axes[1])"
   ]
  },
  {
   "cell_type": "code",
   "execution_count": 16,
   "metadata": {},
   "outputs": [
    {
     "data": {
      "text/html": [
       "<div>\n",
       "<style scoped>\n",
       "    .dataframe tbody tr th:only-of-type {\n",
       "        vertical-align: middle;\n",
       "    }\n",
       "\n",
       "    .dataframe tbody tr th {\n",
       "        vertical-align: top;\n",
       "    }\n",
       "\n",
       "    .dataframe thead th {\n",
       "        text-align: right;\n",
       "    }\n",
       "</style>\n",
       "<table border=\"1\" class=\"dataframe\">\n",
       "  <thead>\n",
       "    <tr style=\"text-align: right;\">\n",
       "      <th></th>\n",
       "      <th>marital</th>\n",
       "      <th>success</th>\n",
       "    </tr>\n",
       "  </thead>\n",
       "  <tbody>\n",
       "    <tr>\n",
       "      <th>0</th>\n",
       "      <td>divorced</td>\n",
       "      <td>0.145833</td>\n",
       "    </tr>\n",
       "    <tr>\n",
       "      <th>2</th>\n",
       "      <td>single</td>\n",
       "      <td>0.139632</td>\n",
       "    </tr>\n",
       "    <tr>\n",
       "      <th>1</th>\n",
       "      <td>married</td>\n",
       "      <td>0.099035</td>\n",
       "    </tr>\n",
       "  </tbody>\n",
       "</table>\n",
       "</div>"
      ],
      "text/plain": [
       "    marital   success\n",
       "0  divorced  0.145833\n",
       "2    single  0.139632\n",
       "1   married  0.099035"
      ]
     },
     "execution_count": 16,
     "metadata": {},
     "output_type": "execute_result"
    }
   ],
   "source": [
    "full_df[['marital','success']].groupby(['marital'], as_index=False).mean().sort_values(by='success', ascending=False)"
   ]
  },
  {
   "cell_type": "code",
   "execution_count": 17,
   "metadata": {},
   "outputs": [
    {
     "data": {
      "text/html": [
       "<div>\n",
       "<style scoped>\n",
       "    .dataframe tbody tr th:only-of-type {\n",
       "        vertical-align: middle;\n",
       "    }\n",
       "\n",
       "    .dataframe tbody tr th {\n",
       "        vertical-align: top;\n",
       "    }\n",
       "\n",
       "    .dataframe thead th {\n",
       "        text-align: right;\n",
       "    }\n",
       "</style>\n",
       "<table border=\"1\" class=\"dataframe\">\n",
       "  <thead>\n",
       "    <tr style=\"text-align: right;\">\n",
       "      <th></th>\n",
       "      <th>education</th>\n",
       "      <th>success</th>\n",
       "    </tr>\n",
       "  </thead>\n",
       "  <tbody>\n",
       "    <tr>\n",
       "      <th>2</th>\n",
       "      <td>tertiary</td>\n",
       "      <td>0.142963</td>\n",
       "    </tr>\n",
       "    <tr>\n",
       "      <th>1</th>\n",
       "      <td>secondary</td>\n",
       "      <td>0.106245</td>\n",
       "    </tr>\n",
       "    <tr>\n",
       "      <th>3</th>\n",
       "      <td>unknown</td>\n",
       "      <td>0.101604</td>\n",
       "    </tr>\n",
       "    <tr>\n",
       "      <th>0</th>\n",
       "      <td>primary</td>\n",
       "      <td>0.094395</td>\n",
       "    </tr>\n",
       "  </tbody>\n",
       "</table>\n",
       "</div>"
      ],
      "text/plain": [
       "   education   success\n",
       "2   tertiary  0.142963\n",
       "1  secondary  0.106245\n",
       "3    unknown  0.101604\n",
       "0    primary  0.094395"
      ]
     },
     "execution_count": 17,
     "metadata": {},
     "output_type": "execute_result"
    }
   ],
   "source": [
    "full_df[['education','success']].groupby(['education'], as_index=False).mean().sort_values(by='success', ascending=False)"
   ]
  },
  {
   "cell_type": "code",
   "execution_count": 18,
   "metadata": {},
   "outputs": [
    {
     "data": {
      "text/plain": [
       "<matplotlib.axes._subplots.AxesSubplot at 0x7f7494f7c748>"
      ]
     },
     "execution_count": 18,
     "metadata": {},
     "output_type": "execute_result"
    },
    {
     "data": {
      "image/png": "[encoded data removed]",
      "text/plain": [
       "<Figure size 1080x288 with 3 Axes>"
      ]
     },
     "metadata": {},
     "output_type": "display_data"
    }
   ],
   "source": [
    "fig, axes = plt.subplots(1,3,figsize=(15,4))\n",
    "sns.countplot(x='default',hue='y',data=full_df,palette='coolwarm',ax=axes[0])\n",
    "sns.countplot(x='loan',hue='y',data=full_df,palette='coolwarm',ax=axes[1])\n",
    "sns.countplot(x='housing',hue='y',data=full_df,palette='coolwarm',ax=axes[2])"
   ]
  },
  {
   "cell_type": "code",
   "execution_count": 19,
   "metadata": {},
   "outputs": [
    {
     "data": {
      "text/plain": [
       "no     4445\n",
       "yes      76\n",
       "Name: default, dtype: int64"
      ]
     },
     "execution_count": 19,
     "metadata": {},
     "output_type": "execute_result"
    }
   ],
   "source": [
    "full_df['default'].value_counts()"
   ]
  },
  {
   "cell_type": "code",
   "execution_count": 20,
   "metadata": {},
   "outputs": [
    {
     "data": {
      "text/plain": [
       "<matplotlib.axes._subplots.AxesSubplot at 0x7f7494e81780>"
      ]
     },
     "execution_count": 20,
     "metadata": {},
     "output_type": "execute_result"
    },
    {
     "data": {
      "image/png": "[encoded data removed]",
      "text/plain": [
       "<Figure size 1080x288 with 3 Axes>"
      ]
     },
     "metadata": {},
     "output_type": "display_data"
    }
   ],
   "source": [
    "# The results make some sence here.  If you have a loan or a house you are probably less likely to say yes to opening up a\n",
    "# new savings account as they are probably paying of said loan or house.\n",
    "\n",
    "fig, axes = plt.subplots(1,3,figsize=(15,4))\n",
    "sns.barplot(x='default',y='success',data=full_df,palette='mako_r',ci=None,ax=axes[0])\n",
    "sns.barplot(x='loan',y='success',data=full_df,palette='mako_r',ci=None,ax=axes[1])\n",
    "sns.barplot(x='housing',y='success',data=full_df,palette='mako_r',ci=None,ax=axes[2])"
   ]
  },
  {
   "cell_type": "code",
   "execution_count": 21,
   "metadata": {},
   "outputs": [
    {
     "data": {
      "text/plain": [
       "<matplotlib.axes._subplots.AxesSubplot at 0x7f7494d60ba8>"
      ]
     },
     "execution_count": 21,
     "metadata": {},
     "output_type": "execute_result"
    },
    {
     "data": {
      "image/png": "[encoded data removed]",
      "text/plain": [
       "<Figure size 1080x288 with 3 Axes>"
      ]
     },
     "metadata": {},
     "output_type": "display_data"
    }
   ],
   "source": [
    "fig, axes = plt.subplots(1,3,figsize=(15,4))\n",
    "sns.countplot(x='month',hue='y',data=full_df,palette='coolwarm',ax=axes[0])\n",
    "sns.countplot(x='contact',hue='y',data=full_df,palette='coolwarm',ax=axes[1])\n",
    "sns.countplot(x='poutcome',hue='y',data=full_df,palette='coolwarm',ax=axes[2])"
   ]
  },
  {
   "cell_type": "code",
   "execution_count": 22,
   "metadata": {},
   "outputs": [
    {
     "data": {
      "text/plain": [
       "unknown    3705\n",
       "failure     490\n",
       "other       197\n",
       "success     129\n",
       "Name: poutcome, dtype: int64"
      ]
     },
     "execution_count": 22,
     "metadata": {},
     "output_type": "execute_result"
    }
   ],
   "source": [
    "full_df['poutcome'].value_counts()"
   ]
  },
  {
   "cell_type": "code",
   "execution_count": 23,
   "metadata": {},
   "outputs": [
    {
     "data": {
      "text/plain": [
       "<matplotlib.axes._subplots.AxesSubplot at 0x7f7494bc2438>"
      ]
     },
     "execution_count": 23,
     "metadata": {},
     "output_type": "execute_result"
    },
    {
     "data": {
      "image/png": "[encoded data removed]",
      "text/plain": [
       "<Figure size 1080x288 with 3 Axes>"
      ]
     },
     "metadata": {},
     "output_type": "display_data"
    }
   ],
   "source": [
    "fig, axes = plt.subplots(1,3,figsize=(15,4))\n",
    "sns.barplot(x='month',y='success',data=full_df,palette='mako_r',ci=None,ax=axes[0])\n",
    "sns.barplot(x='contact',y='success',data=full_df,palette='mako_r',ci=None,ax=axes[1])\n",
    "sns.barplot(x='poutcome',y='success',data=full_df,palette='mako_r',ci=None,ax=axes[2])"
   ]
  },
  {
   "cell_type": "code",
   "execution_count": 24,
   "metadata": {},
   "outputs": [
    {
     "data": {
      "text/html": [
       "<div>\n",
       "<style scoped>\n",
       "    .dataframe tbody tr th:only-of-type {\n",
       "        vertical-align: middle;\n",
       "    }\n",
       "\n",
       "    .dataframe tbody tr th {\n",
       "        vertical-align: top;\n",
       "    }\n",
       "\n",
       "    .dataframe thead th {\n",
       "        text-align: right;\n",
       "    }\n",
       "</style>\n",
       "<table border=\"1\" class=\"dataframe\">\n",
       "  <thead>\n",
       "    <tr style=\"text-align: right;\">\n",
       "      <th></th>\n",
       "      <th>poutcome</th>\n",
       "      <th>success</th>\n",
       "    </tr>\n",
       "  </thead>\n",
       "  <tbody>\n",
       "    <tr>\n",
       "      <th>2</th>\n",
       "      <td>success</td>\n",
       "      <td>0.643411</td>\n",
       "    </tr>\n",
       "    <tr>\n",
       "      <th>1</th>\n",
       "      <td>other</td>\n",
       "      <td>0.192893</td>\n",
       "    </tr>\n",
       "    <tr>\n",
       "      <th>0</th>\n",
       "      <td>failure</td>\n",
       "      <td>0.128571</td>\n",
       "    </tr>\n",
       "    <tr>\n",
       "      <th>3</th>\n",
       "      <td>unknown</td>\n",
       "      <td>0.090958</td>\n",
       "    </tr>\n",
       "  </tbody>\n",
       "</table>\n",
       "</div>"
      ],
      "text/plain": [
       "  poutcome   success\n",
       "2  success  0.643411\n",
       "1    other  0.192893\n",
       "0  failure  0.128571\n",
       "3  unknown  0.090958"
      ]
     },
     "execution_count": 24,
     "metadata": {},
     "output_type": "execute_result"
    }
   ],
   "source": [
    "full_df[['poutcome','success']].groupby(['poutcome'], as_index=False).mean().sort_values(by='success', ascending=False)"
   ]
  },
  {
   "cell_type": "markdown",
   "metadata": {},
   "source": [
    "## Results: Categorical variables \n",
    "\n",
    "### Keep:\n",
    "\n",
    "    1. job \n",
    "    2. education\n",
    "    3. marital\n",
    "    4. loan\n",
    "    5. housing\n",
    "\n",
    "<h5>poutcome - DROP</h5> \n",
    "poutcome looks really promising in-terms of predicting whether a client will add an account based off the 64% that had previously committed to another campaign also said yes to this one. However, the total unknowns collected means that most of this variable is usless. As such it should probably be cut from final analysis. \n",
    "\n",
    "<h5>contact - DROP</h5>\n",
    "This is another variable that suffers from a large amount of unknown or 'missing data'. in addition to the unknown data cellular and telephone show essentially the same success rate as one another, and therefore doesn't really provide us with anything useful.\n",
    "\n",
    "<h5>default - DROP</h5>\n",
    "The default variable is a little different as there are no unknowns but 90% of the data set has report no as to whether they have defaulted on a loan. Again, because of this imbalance the default varaiable should be dropped.   \n",
    "\n",
    "<h5>month - DROP</h5>\n",
    "Month variable may be worth looking at but for the purpose of simplicity will be removed for this analysis."
   ]
  },
  {
   "cell_type": "markdown",
   "metadata": {},
   "source": [
    "## Step 1.2:\n",
    "## Continuous variables \n",
    "\n",
    "Plot them using Kernel Density Plots.\n",
    "\n",
    "A Density Plot visualises the distribution of data over a continuous interval or time period. This chart is a variation of a Histogram that uses kernel smoothing to plot values, allowing for smoother distributions by smoothing out the noise. The peaks of a Density Plot help display where values are concentrated over the interval.\n",
    "\n",
    "An advantage Density Plots have over Histograms is that they're better at determining the distribution shape because they're not affected by the number of bins used (each bar used in a typical histogram). A Histogram comprising of only 4 bins wouldn't produce a distinguishable enough shape of distribution as a 20-bin Histogram would. However, with Density Plots, this isn't an issue.\n",
    "\n",
    "https://datavizcatalogue.com/methods/density_plot.html"
   ]
  },
  {
   "cell_type": "code",
   "execution_count": 25,
   "metadata": {},
   "outputs": [
    {
     "data": {
      "text/html": [
       "<div>\n",
       "<style scoped>\n",
       "    .dataframe tbody tr th:only-of-type {\n",
       "        vertical-align: middle;\n",
       "    }\n",
       "\n",
       "    .dataframe tbody tr th {\n",
       "        vertical-align: top;\n",
       "    }\n",
       "\n",
       "    .dataframe thead th {\n",
       "        text-align: right;\n",
       "    }\n",
       "</style>\n",
       "<table border=\"1\" class=\"dataframe\">\n",
       "  <thead>\n",
       "    <tr style=\"text-align: right;\">\n",
       "      <th></th>\n",
       "      <th>age</th>\n",
       "      <th>balance</th>\n",
       "      <th>day</th>\n",
       "      <th>month</th>\n",
       "      <th>duration</th>\n",
       "      <th>campaign</th>\n",
       "      <th>pdays</th>\n",
       "      <th>previous</th>\n",
       "      <th>success</th>\n",
       "    </tr>\n",
       "  </thead>\n",
       "  <tbody>\n",
       "    <tr>\n",
       "      <th>count</th>\n",
       "      <td>4521.000000</td>\n",
       "      <td>4521.000000</td>\n",
       "      <td>4521.000000</td>\n",
       "      <td>4521.000000</td>\n",
       "      <td>4521.000000</td>\n",
       "      <td>4521.000000</td>\n",
       "      <td>4521.000000</td>\n",
       "      <td>4521.000000</td>\n",
       "      <td>4521.000000</td>\n",
       "    </tr>\n",
       "    <tr>\n",
       "      <th>mean</th>\n",
       "      <td>41.170095</td>\n",
       "      <td>1422.657819</td>\n",
       "      <td>15.915284</td>\n",
       "      <td>6.166777</td>\n",
       "      <td>4.399355</td>\n",
       "      <td>2.793630</td>\n",
       "      <td>39.766645</td>\n",
       "      <td>0.542579</td>\n",
       "      <td>0.115240</td>\n",
       "    </tr>\n",
       "    <tr>\n",
       "      <th>std</th>\n",
       "      <td>10.576211</td>\n",
       "      <td>3009.638142</td>\n",
       "      <td>8.247667</td>\n",
       "      <td>2.378380</td>\n",
       "      <td>4.330944</td>\n",
       "      <td>3.109807</td>\n",
       "      <td>100.121124</td>\n",
       "      <td>1.693562</td>\n",
       "      <td>0.319347</td>\n",
       "    </tr>\n",
       "    <tr>\n",
       "      <th>min</th>\n",
       "      <td>19.000000</td>\n",
       "      <td>-3313.000000</td>\n",
       "      <td>1.000000</td>\n",
       "      <td>1.000000</td>\n",
       "      <td>0.066667</td>\n",
       "      <td>1.000000</td>\n",
       "      <td>-1.000000</td>\n",
       "      <td>0.000000</td>\n",
       "      <td>0.000000</td>\n",
       "    </tr>\n",
       "    <tr>\n",
       "      <th>25%</th>\n",
       "      <td>33.000000</td>\n",
       "      <td>69.000000</td>\n",
       "      <td>9.000000</td>\n",
       "      <td>5.000000</td>\n",
       "      <td>1.733333</td>\n",
       "      <td>1.000000</td>\n",
       "      <td>-1.000000</td>\n",
       "      <td>0.000000</td>\n",
       "      <td>0.000000</td>\n",
       "    </tr>\n",
       "    <tr>\n",
       "      <th>50%</th>\n",
       "      <td>39.000000</td>\n",
       "      <td>444.000000</td>\n",
       "      <td>16.000000</td>\n",
       "      <td>6.000000</td>\n",
       "      <td>3.083333</td>\n",
       "      <td>2.000000</td>\n",
       "      <td>-1.000000</td>\n",
       "      <td>0.000000</td>\n",
       "      <td>0.000000</td>\n",
       "    </tr>\n",
       "    <tr>\n",
       "      <th>75%</th>\n",
       "      <td>49.000000</td>\n",
       "      <td>1480.000000</td>\n",
       "      <td>21.000000</td>\n",
       "      <td>8.000000</td>\n",
       "      <td>5.483333</td>\n",
       "      <td>3.000000</td>\n",
       "      <td>-1.000000</td>\n",
       "      <td>0.000000</td>\n",
       "      <td>0.000000</td>\n",
       "    </tr>\n",
       "    <tr>\n",
       "      <th>max</th>\n",
       "      <td>87.000000</td>\n",
       "      <td>71188.000000</td>\n",
       "      <td>31.000000</td>\n",
       "      <td>12.000000</td>\n",
       "      <td>50.416667</td>\n",
       "      <td>50.000000</td>\n",
       "      <td>871.000000</td>\n",
       "      <td>25.000000</td>\n",
       "      <td>1.000000</td>\n",
       "    </tr>\n",
       "  </tbody>\n",
       "</table>\n",
       "</div>"
      ],
      "text/plain": [
       "               age       balance          day        month     duration  \\\n",
       "count  4521.000000   4521.000000  4521.000000  4521.000000  4521.000000   \n",
       "mean     41.170095   1422.657819    15.915284     6.166777     4.399355   \n",
       "std      10.576211   3009.638142     8.247667     2.378380     4.330944   \n",
       "min      19.000000  -3313.000000     1.000000     1.000000     0.066667   \n",
       "25%      33.000000     69.000000     9.000000     5.000000     1.733333   \n",
       "50%      39.000000    444.000000    16.000000     6.000000     3.083333   \n",
       "75%      49.000000   1480.000000    21.000000     8.000000     5.483333   \n",
       "max      87.000000  71188.000000    31.000000    12.000000    50.416667   \n",
       "\n",
       "          campaign        pdays     previous      success  \n",
       "count  4521.000000  4521.000000  4521.000000  4521.000000  \n",
       "mean      2.793630    39.766645     0.542579     0.115240  \n",
       "std       3.109807   100.121124     1.693562     0.319347  \n",
       "min       1.000000    -1.000000     0.000000     0.000000  \n",
       "25%       1.000000    -1.000000     0.000000     0.000000  \n",
       "50%       2.000000    -1.000000     0.000000     0.000000  \n",
       "75%       3.000000    -1.000000     0.000000     0.000000  \n",
       "max      50.000000   871.000000    25.000000     1.000000  "
      ]
     },
     "execution_count": 25,
     "metadata": {},
     "output_type": "execute_result"
    }
   ],
   "source": [
    "full_df.describe()"
   ]
  },
  {
   "cell_type": "code",
   "execution_count": 27,
   "metadata": {},
   "outputs": [
    {
     "data": {
      "text/plain": [
       "Text(0.5,1,'Age')"
      ]
     },
     "execution_count": 27,
     "metadata": {},
     "output_type": "execute_result"
    },
    {
     "data": {
      "image/png": "[encoded data removed]",
      "text/plain": [
       "<Figure size 917.25x216 with 1 Axes>"
      ]
     },
     "metadata": {},
     "output_type": "display_data"
    }
   ],
   "source": [
    "facet=sns.FacetGrid(full_df, hue='y',aspect=4)\n",
    "facet.map(sns.kdeplot,'age',shade= True)\n",
    "facet.add_legend()\n",
    "plt.title('Age')"
   ]
  },
  {
   "cell_type": "code",
   "execution_count": 28,
   "metadata": {},
   "outputs": [
    {
     "data": {
      "text/plain": [
       "Text(0.5,1,'Balance')"
      ]
     },
     "execution_count": 28,
     "metadata": {},
     "output_type": "execute_result"
    },
    {
     "data": {
      "image/png": "[encoded data removed]",
      "text/plain": [
       "<Figure size 917.25x216 with 1 Axes>"
      ]
     },
     "metadata": {},
     "output_type": "display_data"
    }
   ],
   "source": [
    "# use seaborn charting to take a look at the distribution of 'balance' and whether client agreed to promotion \n",
    "facet=sns.FacetGrid(full_df, hue='y',aspect=4)\n",
    "facet.map(sns.kdeplot,'balance',shade= True)\n",
    "facet.set(xlim=(full_df['balance'].min(), 30000)) #use a cap on max value b/c of a couple outliers (71188, 42045)\n",
    "facet.add_legend()\n",
    "plt.title('Balance')"
   ]
  },
  {
   "cell_type": "code",
   "execution_count": 29,
   "metadata": {},
   "outputs": [
    {
     "data": {
      "text/plain": [
       "Text(0.5,1,'Shows the last contact duration in minutes')"
      ]
     },
     "execution_count": 29,
     "metadata": {},
     "output_type": "execute_result"
    },
    {
     "data": {
      "image/png": "[encoded data removed]",
      "text/plain": [
       "<Figure size 917.25x216 with 1 Axes>"
      ]
     },
     "metadata": {},
     "output_type": "display_data"
    }
   ],
   "source": [
    "facet=sns.FacetGrid(full_df, hue='y',aspect=4)\n",
    "facet.map(sns.kdeplot,'duration',shade= True)\n",
    "facet.add_legend()\n",
    "plt.title('Shows the last contact duration in minutes')"
   ]
  },
  {
   "cell_type": "code",
   "execution_count": 30,
   "metadata": {},
   "outputs": [
    {
     "data": {
      "text/plain": [
       "Text(0.5,1,'Number of contacts performed during the marketing campaign for this customer')"
      ]
     },
     "execution_count": 30,
     "metadata": {},
     "output_type": "execute_result"
    },
    {
     "data": {
      "image/png": "[encoded data removed]",
      "text/plain": [
       "<Figure size 917.25x216 with 1 Axes>"
      ]
     },
     "metadata": {},
     "output_type": "display_data"
    }
   ],
   "source": [
    "facet=sns.FacetGrid(full_df, hue='y',aspect=4)\n",
    "facet.map(sns.kdeplot,'campaign',shade= True)\n",
    "facet.add_legend()\n",
    "plt.title('Number of contacts performed during the marketing campaign for this customer')"
   ]
  },
  {
   "cell_type": "code",
   "execution_count": 31,
   "metadata": {},
   "outputs": [
    {
     "data": {
      "text/plain": [
       "1    1734\n",
       "2    1264\n",
       "3     558\n",
       "4     325\n",
       "5     167\n",
       "Name: campaign, dtype: int64"
      ]
     },
     "execution_count": 31,
     "metadata": {},
     "output_type": "execute_result"
    }
   ],
   "source": [
    "full_df['campaign'].value_counts().head()"
   ]
  },
  {
   "cell_type": "code",
   "execution_count": 32,
   "metadata": {},
   "outputs": [
    {
     "data": {
      "text/plain": [
       "Text(0.5,1,'Number of days that passed by after the client was last contacted from aprevious campaign')"
      ]
     },
     "execution_count": 32,
     "metadata": {},
     "output_type": "execute_result"
    },
    {
     "data": {
      "image/png": "[encoded data removed]",
      "text/plain": [
       "<Figure size 917.25x216 with 1 Axes>"
      ]
     },
     "metadata": {},
     "output_type": "display_data"
    }
   ],
   "source": [
    "facet=sns.FacetGrid(full_df, hue='y',aspect=4)\n",
    "facet.map(sns.kdeplot,'pdays',shade= True)\n",
    "facet.add_legend()\n",
    "plt.title('Number of days that passed by after the client was last contacted from aprevious campaign')"
   ]
  },
  {
   "cell_type": "code",
   "execution_count": 33,
   "metadata": {},
   "outputs": [
    {
     "data": {
      "text/plain": [
       "-1      3705\n",
       " 182      23\n",
       " 183      20\n",
       " 363      12\n",
       " 92       12\n",
       "Name: pdays, dtype: int64"
      ]
     },
     "execution_count": 33,
     "metadata": {},
     "output_type": "execute_result"
    }
   ],
   "source": [
    "full_df['pdays'].value_counts().head()"
   ]
  },
  {
   "cell_type": "code",
   "execution_count": 34,
   "metadata": {},
   "outputs": [
    {
     "data": {
      "text/plain": [
       "Text(0.5,1,'Number of contacts performed before this campaign and for this client')"
      ]
     },
     "execution_count": 34,
     "metadata": {},
     "output_type": "execute_result"
    },
    {
     "data": {
      "image/png": "[encoded data removed]",
      "text/plain": [
       "<Figure size 917.25x216 with 1 Axes>"
      ]
     },
     "metadata": {},
     "output_type": "display_data"
    }
   ],
   "source": [
    "facet=sns.FacetGrid(full_df, hue='y',aspect=4)\n",
    "facet.map(sns.kdeplot,'previous',shade= True)\n",
    "facet.add_legend()\n",
    "plt.title('Number of contacts performed before this campaign and for this client')"
   ]
  },
  {
   "cell_type": "code",
   "execution_count": 35,
   "metadata": {},
   "outputs": [
    {
     "data": {
      "text/plain": [
       "0    3705\n",
       "1     286\n",
       "2     193\n",
       "3     113\n",
       "4      78\n",
       "Name: previous, dtype: int64"
      ]
     },
     "execution_count": 35,
     "metadata": {},
     "output_type": "execute_result"
    }
   ],
   "source": [
    "full_df['previous'].value_counts().head()"
   ]
  },
  {
   "cell_type": "markdown",
   "metadata": {},
   "source": [
    "## Step 1.3:\n",
    "## Continuous variables - transformed to categorical\n",
    "\n",
    "The 3 variables that relate to if a customer was contacted seem like they could be transformed to one variable as opposed to 3.\n",
    "<b>campaign</b> and <b>previous</b> should be one, and <b>pday</b> and previous both suffer from a lot of 0 values indicating that the client was not contacted. By combining campaign and previous we can still keep a variable for whether the client had been contact and we can drop pdays as it is unbalanced and would capture some of the same info that the new combined variable would contain. "
   ]
  },
  {
   "cell_type": "code",
   "execution_count": 36,
   "metadata": {},
   "outputs": [],
   "source": [
    "full_df['was_contacted'] = full_df['previous']+full_df['campaign']"
   ]
  },
  {
   "cell_type": "code",
   "execution_count": 37,
   "metadata": {},
   "outputs": [
    {
     "data": {
      "text/html": [
       "<div>\n",
       "<style scoped>\n",
       "    .dataframe tbody tr th:only-of-type {\n",
       "        vertical-align: middle;\n",
       "    }\n",
       "\n",
       "    .dataframe tbody tr th {\n",
       "        vertical-align: top;\n",
       "    }\n",
       "\n",
       "    .dataframe thead th {\n",
       "        text-align: right;\n",
       "    }\n",
       "</style>\n",
       "<table border=\"1\" class=\"dataframe\">\n",
       "  <thead>\n",
       "    <tr style=\"text-align: right;\">\n",
       "      <th></th>\n",
       "      <th>pdays</th>\n",
       "      <th>previous</th>\n",
       "      <th>campaign</th>\n",
       "      <th>was_contacted</th>\n",
       "    </tr>\n",
       "  </thead>\n",
       "  <tbody>\n",
       "    <tr>\n",
       "      <th>0</th>\n",
       "      <td>-1</td>\n",
       "      <td>0</td>\n",
       "      <td>1</td>\n",
       "      <td>1</td>\n",
       "    </tr>\n",
       "    <tr>\n",
       "      <th>1</th>\n",
       "      <td>339</td>\n",
       "      <td>4</td>\n",
       "      <td>1</td>\n",
       "      <td>5</td>\n",
       "    </tr>\n",
       "    <tr>\n",
       "      <th>2</th>\n",
       "      <td>330</td>\n",
       "      <td>1</td>\n",
       "      <td>1</td>\n",
       "      <td>2</td>\n",
       "    </tr>\n",
       "    <tr>\n",
       "      <th>3</th>\n",
       "      <td>-1</td>\n",
       "      <td>0</td>\n",
       "      <td>4</td>\n",
       "      <td>4</td>\n",
       "    </tr>\n",
       "    <tr>\n",
       "      <th>4</th>\n",
       "      <td>-1</td>\n",
       "      <td>0</td>\n",
       "      <td>1</td>\n",
       "      <td>1</td>\n",
       "    </tr>\n",
       "  </tbody>\n",
       "</table>\n",
       "</div>"
      ],
      "text/plain": [
       "   pdays  previous  campaign  was_contacted\n",
       "0     -1         0         1              1\n",
       "1    339         4         1              5\n",
       "2    330         1         1              2\n",
       "3     -1         0         4              4\n",
       "4     -1         0         1              1"
      ]
     },
     "execution_count": 37,
     "metadata": {},
     "output_type": "execute_result"
    }
   ],
   "source": [
    "full_df[['pdays','previous','campaign','was_contacted']].head()"
   ]
  },
  {
   "cell_type": "code",
   "execution_count": 38,
   "metadata": {},
   "outputs": [],
   "source": [
    "bins = [0,2,6,11,100]\n",
    "bin_labels = ['1','2-5','6-10','> 10']\n",
    "full_df['was_contacted_cat'] = pd.cut(full_df.was_contacted, bins, right=False, labels = bin_labels)"
   ]
  },
  {
   "cell_type": "code",
   "execution_count": 39,
   "metadata": {},
   "outputs": [
    {
     "data": {
      "text/plain": [
       "2-5     2517\n",
       "1       1309\n",
       "6-10     521\n",
       "> 10     174\n",
       "Name: was_contacted_cat, dtype: int64"
      ]
     },
     "execution_count": 39,
     "metadata": {},
     "output_type": "execute_result"
    }
   ],
   "source": [
    "full_df['was_contacted_cat'].value_counts()"
   ]
  },
  {
   "cell_type": "code",
   "execution_count": 40,
   "metadata": {},
   "outputs": [
    {
     "data": {
      "text/plain": [
       "<matplotlib.axes._subplots.AxesSubplot at 0x7f74947c4780>"
      ]
     },
     "execution_count": 40,
     "metadata": {},
     "output_type": "execute_result"
    },
    {
     "data": {
      "image/png": "[encoded data removed]",
      "text/plain": [
       "<Figure size 1080x288 with 2 Axes>"
      ]
     },
     "metadata": {},
     "output_type": "display_data"
    }
   ],
   "source": [
    "fig, axes = plt.subplots(1,2,figsize=(15,4))\n",
    "sns.countplot(x='was_contacted_cat',hue='y',data=full_df,palette='coolwarm',ax=axes[0])\n",
    "sns.barplot(x='was_contacted_cat',y='success',data=full_df,palette='mako_r',ci=None,ax=axes[1])"
   ]
  },
  {
   "cell_type": "code",
   "execution_count": 41,
   "metadata": {},
   "outputs": [],
   "source": [
    "bins = [0,30,40,50,60,100]\n",
    "bin_labels = ['0-29','30-39','40-49','50-59','60+']\n",
    "full_df['age_group'] = pd.cut(full_df.age, bins, right=False, labels = bin_labels)"
   ]
  },
  {
   "cell_type": "code",
   "execution_count": 42,
   "metadata": {},
   "outputs": [
    {
     "data": {
      "text/plain": [
       "30-39    1808\n",
       "40-49    1203\n",
       "50-59     854\n",
       "0-29      482\n",
       "60+       174\n",
       "Name: age_group, dtype: int64"
      ]
     },
     "execution_count": 42,
     "metadata": {},
     "output_type": "execute_result"
    }
   ],
   "source": [
    "full_df['age_group'].value_counts()"
   ]
  },
  {
   "cell_type": "code",
   "execution_count": 43,
   "metadata": {},
   "outputs": [
    {
     "data": {
      "text/html": [
       "<div>\n",
       "<style scoped>\n",
       "    .dataframe tbody tr th:only-of-type {\n",
       "        vertical-align: middle;\n",
       "    }\n",
       "\n",
       "    .dataframe tbody tr th {\n",
       "        vertical-align: top;\n",
       "    }\n",
       "\n",
       "    .dataframe thead th {\n",
       "        text-align: right;\n",
       "    }\n",
       "</style>\n",
       "<table border=\"1\" class=\"dataframe\">\n",
       "  <thead>\n",
       "    <tr style=\"text-align: right;\">\n",
       "      <th></th>\n",
       "      <th>age_group</th>\n",
       "      <th>success</th>\n",
       "    </tr>\n",
       "  </thead>\n",
       "  <tbody>\n",
       "    <tr>\n",
       "      <th>0</th>\n",
       "      <td>0-29</td>\n",
       "      <td>0.153527</td>\n",
       "    </tr>\n",
       "    <tr>\n",
       "      <th>1</th>\n",
       "      <td>30-39</td>\n",
       "      <td>0.102323</td>\n",
       "    </tr>\n",
       "    <tr>\n",
       "      <th>2</th>\n",
       "      <td>40-49</td>\n",
       "      <td>0.102244</td>\n",
       "    </tr>\n",
       "    <tr>\n",
       "      <th>3</th>\n",
       "      <td>50-59</td>\n",
       "      <td>0.098361</td>\n",
       "    </tr>\n",
       "    <tr>\n",
       "      <th>4</th>\n",
       "      <td>60+</td>\n",
       "      <td>0.316092</td>\n",
       "    </tr>\n",
       "  </tbody>\n",
       "</table>\n",
       "</div>"
      ],
      "text/plain": [
       "  age_group   success\n",
       "0      0-29  0.153527\n",
       "1     30-39  0.102323\n",
       "2     40-49  0.102244\n",
       "3     50-59  0.098361\n",
       "4       60+  0.316092"
      ]
     },
     "execution_count": 43,
     "metadata": {},
     "output_type": "execute_result"
    }
   ],
   "source": [
    "full_df[['age_group', 'success']].groupby(['age_group'], as_index=False).mean()"
   ]
  },
  {
   "cell_type": "code",
   "execution_count": 44,
   "metadata": {},
   "outputs": [
    {
     "data": {
      "text/plain": [
       "<matplotlib.axes._subplots.AxesSubplot at 0x7f749477be10>"
      ]
     },
     "execution_count": 44,
     "metadata": {},
     "output_type": "execute_result"
    },
    {
     "data": {
      "image/png": "[encoded data removed]",
      "text/plain": [
       "<Figure size 1080x288 with 2 Axes>"
      ]
     },
     "metadata": {},
     "output_type": "display_data"
    }
   ],
   "source": [
    "fig, axes = plt.subplots(1,2,figsize=(15,4))\n",
    "sns.countplot(x='age_group',hue='y',data=full_df,palette='coolwarm',ax=axes[0])\n",
    "sns.barplot(x='age_group',y='success',data=full_df,palette='mako_r',ci=None,ax=axes[1])"
   ]
  },
  {
   "cell_type": "code",
   "execution_count": 45,
   "metadata": {},
   "outputs": [],
   "source": [
    "bins = [-3500,1,1000,5000,10000,100000]\n",
    "bin_labels = ['< 0','1-999','1000-4999','5000-9999','10000+']\n",
    "full_df['balance_group'] = pd.cut(full_df.balance, bins, right=False, labels = bin_labels)"
   ]
  },
  {
   "cell_type": "code",
   "execution_count": 46,
   "metadata": {},
   "outputs": [
    {
     "data": {
      "text/plain": [
       "1-999        2317\n",
       "1000-4999    1172\n",
       "< 0           723\n",
       "5000-9999     217\n",
       "10000+         92\n",
       "Name: balance_group, dtype: int64"
      ]
     },
     "execution_count": 46,
     "metadata": {},
     "output_type": "execute_result"
    }
   ],
   "source": [
    "full_df['balance_group'].value_counts()"
   ]
  },
  {
   "cell_type": "code",
   "execution_count": 47,
   "metadata": {},
   "outputs": [
    {
     "data": {
      "text/html": [
       "<div>\n",
       "<style scoped>\n",
       "    .dataframe tbody tr th:only-of-type {\n",
       "        vertical-align: middle;\n",
       "    }\n",
       "\n",
       "    .dataframe tbody tr th {\n",
       "        vertical-align: top;\n",
       "    }\n",
       "\n",
       "    .dataframe thead th {\n",
       "        text-align: right;\n",
       "    }\n",
       "</style>\n",
       "<table border=\"1\" class=\"dataframe\">\n",
       "  <thead>\n",
       "    <tr style=\"text-align: right;\">\n",
       "      <th></th>\n",
       "      <th>balance_group</th>\n",
       "      <th>success</th>\n",
       "    </tr>\n",
       "  </thead>\n",
       "  <tbody>\n",
       "    <tr>\n",
       "      <th>0</th>\n",
       "      <td>&lt; 0</td>\n",
       "      <td>0.082988</td>\n",
       "    </tr>\n",
       "    <tr>\n",
       "      <th>1</th>\n",
       "      <td>1-999</td>\n",
       "      <td>0.103582</td>\n",
       "    </tr>\n",
       "    <tr>\n",
       "      <th>2</th>\n",
       "      <td>1000-4999</td>\n",
       "      <td>0.159556</td>\n",
       "    </tr>\n",
       "    <tr>\n",
       "      <th>3</th>\n",
       "      <td>5000-9999</td>\n",
       "      <td>0.133641</td>\n",
       "    </tr>\n",
       "    <tr>\n",
       "      <th>4</th>\n",
       "      <td>10000+</td>\n",
       "      <td>0.054348</td>\n",
       "    </tr>\n",
       "  </tbody>\n",
       "</table>\n",
       "</div>"
      ],
      "text/plain": [
       "  balance_group   success\n",
       "0           < 0  0.082988\n",
       "1         1-999  0.103582\n",
       "2     1000-4999  0.159556\n",
       "3     5000-9999  0.133641\n",
       "4        10000+  0.054348"
      ]
     },
     "execution_count": 47,
     "metadata": {},
     "output_type": "execute_result"
    }
   ],
   "source": [
    "full_df[['balance_group', 'success']].groupby(['balance_group'], as_index=False).mean()"
   ]
  },
  {
   "cell_type": "code",
   "execution_count": 48,
   "metadata": {},
   "outputs": [
    {
     "data": {
      "text/plain": [
       "<matplotlib.axes._subplots.AxesSubplot at 0x7f749464d8d0>"
      ]
     },
     "execution_count": 48,
     "metadata": {},
     "output_type": "execute_result"
    },
    {
     "data": {
      "image/png": "[encoded data removed]",
      "text/plain": [
       "<Figure size 1080x288 with 2 Axes>"
      ]
     },
     "metadata": {},
     "output_type": "display_data"
    }
   ],
   "source": [
    "fig, axes = plt.subplots(1,2,figsize=(15,4))\n",
    "sns.countplot(x='balance_group',hue='y',data=full_df,palette='coolwarm',ax=axes[0])\n",
    "sns.barplot(x='balance_group',y='success',data=full_df,palette='mako_r',ci=None,ax=axes[1])"
   ]
  },
  {
   "cell_type": "code",
   "execution_count": 49,
   "metadata": {},
   "outputs": [],
   "source": [
    "bins = [0,5,11,100]\n",
    "bin_labels = ['< 5','5-10','> 10']\n",
    "full_df['duration_group'] = pd.cut(full_df.duration, bins, right=False, labels = bin_labels)"
   ]
  },
  {
   "cell_type": "code",
   "execution_count": 50,
   "metadata": {},
   "outputs": [
    {
     "data": {
      "text/plain": [
       "< 5     3255\n",
       "5-10     928\n",
       "> 10     338\n",
       "Name: duration_group, dtype: int64"
      ]
     },
     "execution_count": 50,
     "metadata": {},
     "output_type": "execute_result"
    }
   ],
   "source": [
    "full_df['duration_group'].value_counts()"
   ]
  },
  {
   "cell_type": "code",
   "execution_count": 51,
   "metadata": {},
   "outputs": [
    {
     "data": {
      "text/html": [
       "<div>\n",
       "<style scoped>\n",
       "    .dataframe tbody tr th:only-of-type {\n",
       "        vertical-align: middle;\n",
       "    }\n",
       "\n",
       "    .dataframe tbody tr th {\n",
       "        vertical-align: top;\n",
       "    }\n",
       "\n",
       "    .dataframe thead th {\n",
       "        text-align: right;\n",
       "    }\n",
       "</style>\n",
       "<table border=\"1\" class=\"dataframe\">\n",
       "  <thead>\n",
       "    <tr style=\"text-align: right;\">\n",
       "      <th></th>\n",
       "      <th>duration_group</th>\n",
       "      <th>success</th>\n",
       "    </tr>\n",
       "  </thead>\n",
       "  <tbody>\n",
       "    <tr>\n",
       "      <th>0</th>\n",
       "      <td>&lt; 5</td>\n",
       "      <td>0.050384</td>\n",
       "    </tr>\n",
       "    <tr>\n",
       "      <th>1</th>\n",
       "      <td>5-10</td>\n",
       "      <td>0.204741</td>\n",
       "    </tr>\n",
       "    <tr>\n",
       "      <th>2</th>\n",
       "      <td>&gt; 10</td>\n",
       "      <td>0.494083</td>\n",
       "    </tr>\n",
       "  </tbody>\n",
       "</table>\n",
       "</div>"
      ],
      "text/plain": [
       "  duration_group   success\n",
       "0            < 5  0.050384\n",
       "1           5-10  0.204741\n",
       "2           > 10  0.494083"
      ]
     },
     "execution_count": 51,
     "metadata": {},
     "output_type": "execute_result"
    }
   ],
   "source": [
    "full_df[['duration_group', 'success']].groupby(['duration_group'], as_index=False).mean()"
   ]
  },
  {
   "cell_type": "code",
   "execution_count": 52,
   "metadata": {},
   "outputs": [
    {
     "data": {
      "text/plain": [
       "<matplotlib.axes._subplots.AxesSubplot at 0x7f749459ad30>"
      ]
     },
     "execution_count": 52,
     "metadata": {},
     "output_type": "execute_result"
    },
    {
     "data": {
      "image/png": "[encoded data removed]",
      "text/plain": [
       "<Figure size 1080x288 with 2 Axes>"
      ]
     },
     "metadata": {},
     "output_type": "display_data"
    }
   ],
   "source": [
    "fig, axes = plt.subplots(1,2,figsize=(15,4))\n",
    "sns.countplot(x='duration_group',hue='y',data=full_df,palette='coolwarm',ax=axes[0])\n",
    "sns.barplot(x='duration_group',y='success',data=full_df,palette='mako_r',ci=None,ax=axes[1])"
   ]
  },
  {
   "cell_type": "markdown",
   "metadata": {},
   "source": [
    "## Results: Continuous variables \n",
    "\n",
    "### Keep:\n",
    "\n",
    "    1. age_group\n",
    "    2. balance_group\n",
    "    3. duration_group\n",
    "    4. was_contacted_cat\n",
    "\n",
    "<h5>pdays - DROP</h5>\n",
    "pdays will be dropped because the variable <b>was_contacted</b> was created. no point in keeping 2 of the same variable. This will also hopefully keep our variables independent of one another.  That being said, lets look a little closer in the next section at <b>duration</b> and <b>was_contacted</b> to see which one we should keep. "
   ]
  },
  {
   "cell_type": "markdown",
   "metadata": {},
   "source": [
    "## Step 2: \n",
    "##  mapping variables\n",
    "\n",
    "Variables to keep for analysis:\n",
    "    1. job - convert to dummy\n",
    "    2. marital - convert to dummy\n",
    "    3. education - convert to dummy\n",
    "    4. housing\n",
    "    5. loan\n",
    "    6. age_group - convert to dummy\n",
    "    7. balance_group - convert to dummy\n",
    "    8. duration_group\n",
    "    9. was_contacted_cat - convert to dummy - drop \n",
    "    "
   ]
  },
  {
   "cell_type": "code",
   "execution_count": 53,
   "metadata": {},
   "outputs": [],
   "source": [
    "run_df = full_df.copy(deep=True)"
   ]
  },
  {
   "cell_type": "code",
   "execution_count": 54,
   "metadata": {},
   "outputs": [],
   "source": [
    "#drop\n",
    "to_drop = ['age','default','balance','contact','day','month','campaign','duration_group','previous','pdays'\n",
    "           ,'poutcome','y','was_contacted','was_contacted_cat']\n",
    "run_df = run_df.drop(to_drop ,axis=1) "
   ]
  },
  {
   "cell_type": "code",
   "execution_count": 55,
   "metadata": {},
   "outputs": [],
   "source": [
    "#map\n",
    "run_df['housing'] = run_df['housing'].map({'yes':1, 'no':0})\n",
    "run_df['loan'] = run_df['loan'].map({'yes':1, 'no':0})"
   ]
  },
  {
   "cell_type": "code",
   "execution_count": 56,
   "metadata": {},
   "outputs": [],
   "source": [
    "#re-order\n",
    "run_df = run_df[['success','job','marital','education','housing','loan','age_group','balance_group','duration']]"
   ]
  },
  {
   "cell_type": "code",
   "execution_count": 57,
   "metadata": {},
   "outputs": [
    {
     "data": {
      "text/html": [
       "<div>\n",
       "<style scoped>\n",
       "    .dataframe tbody tr th:only-of-type {\n",
       "        vertical-align: middle;\n",
       "    }\n",
       "\n",
       "    .dataframe tbody tr th {\n",
       "        vertical-align: top;\n",
       "    }\n",
       "\n",
       "    .dataframe thead th {\n",
       "        text-align: right;\n",
       "    }\n",
       "</style>\n",
       "<table border=\"1\" class=\"dataframe\">\n",
       "  <thead>\n",
       "    <tr style=\"text-align: right;\">\n",
       "      <th></th>\n",
       "      <th>success</th>\n",
       "      <th>job</th>\n",
       "      <th>marital</th>\n",
       "      <th>education</th>\n",
       "      <th>housing</th>\n",
       "      <th>loan</th>\n",
       "      <th>age_group</th>\n",
       "      <th>balance_group</th>\n",
       "      <th>duration</th>\n",
       "    </tr>\n",
       "  </thead>\n",
       "  <tbody>\n",
       "    <tr>\n",
       "      <th>0</th>\n",
       "      <td>0</td>\n",
       "      <td>unemployed</td>\n",
       "      <td>married</td>\n",
       "      <td>primary</td>\n",
       "      <td>0</td>\n",
       "      <td>0</td>\n",
       "      <td>30-39</td>\n",
       "      <td>1000-4999</td>\n",
       "      <td>1.316667</td>\n",
       "    </tr>\n",
       "    <tr>\n",
       "      <th>1</th>\n",
       "      <td>0</td>\n",
       "      <td>services</td>\n",
       "      <td>married</td>\n",
       "      <td>secondary</td>\n",
       "      <td>1</td>\n",
       "      <td>1</td>\n",
       "      <td>30-39</td>\n",
       "      <td>1000-4999</td>\n",
       "      <td>3.666667</td>\n",
       "    </tr>\n",
       "    <tr>\n",
       "      <th>2</th>\n",
       "      <td>0</td>\n",
       "      <td>management</td>\n",
       "      <td>single</td>\n",
       "      <td>tertiary</td>\n",
       "      <td>1</td>\n",
       "      <td>0</td>\n",
       "      <td>30-39</td>\n",
       "      <td>1000-4999</td>\n",
       "      <td>3.083333</td>\n",
       "    </tr>\n",
       "    <tr>\n",
       "      <th>3</th>\n",
       "      <td>0</td>\n",
       "      <td>management</td>\n",
       "      <td>married</td>\n",
       "      <td>tertiary</td>\n",
       "      <td>1</td>\n",
       "      <td>1</td>\n",
       "      <td>30-39</td>\n",
       "      <td>1000-4999</td>\n",
       "      <td>3.316667</td>\n",
       "    </tr>\n",
       "    <tr>\n",
       "      <th>4</th>\n",
       "      <td>0</td>\n",
       "      <td>blue-collar</td>\n",
       "      <td>married</td>\n",
       "      <td>secondary</td>\n",
       "      <td>1</td>\n",
       "      <td>0</td>\n",
       "      <td>50-59</td>\n",
       "      <td>&lt; 0</td>\n",
       "      <td>3.766667</td>\n",
       "    </tr>\n",
       "  </tbody>\n",
       "</table>\n",
       "</div>"
      ],
      "text/plain": [
       "   success          job  marital  education  housing  loan age_group  \\\n",
       "0        0   unemployed  married    primary        0     0     30-39   \n",
       "1        0     services  married  secondary        1     1     30-39   \n",
       "2        0   management   single   tertiary        1     0     30-39   \n",
       "3        0   management  married   tertiary        1     1     30-39   \n",
       "4        0  blue-collar  married  secondary        1     0     50-59   \n",
       "\n",
       "  balance_group  duration  \n",
       "0     1000-4999  1.316667  \n",
       "1     1000-4999  3.666667  \n",
       "2     1000-4999  3.083333  \n",
       "3     1000-4999  3.316667  \n",
       "4           < 0  3.766667  "
      ]
     },
     "execution_count": 57,
     "metadata": {},
     "output_type": "execute_result"
    }
   ],
   "source": [
    "run_df.head()"
   ]
  },
  {
   "cell_type": "code",
   "execution_count": 58,
   "metadata": {
    "scrolled": true
   },
   "outputs": [],
   "source": [
    "#get dummies\n",
    "run_df=pd.get_dummies(data=run_df, columns=['job','marital','education','age_group','balance_group'], \n",
    "              prefix=['job','marital','education','age_group','balance_group'])"
   ]
  },
  {
   "cell_type": "code",
   "execution_count": 59,
   "metadata": {},
   "outputs": [
    {
     "data": {
      "text/html": [
       "<div>\n",
       "<style scoped>\n",
       "    .dataframe tbody tr th:only-of-type {\n",
       "        vertical-align: middle;\n",
       "    }\n",
       "\n",
       "    .dataframe tbody tr th {\n",
       "        vertical-align: top;\n",
       "    }\n",
       "\n",
       "    .dataframe thead th {\n",
       "        text-align: right;\n",
       "    }\n",
       "</style>\n",
       "<table border=\"1\" class=\"dataframe\">\n",
       "  <thead>\n",
       "    <tr style=\"text-align: right;\">\n",
       "      <th></th>\n",
       "      <th>success</th>\n",
       "      <th>housing</th>\n",
       "      <th>loan</th>\n",
       "      <th>duration</th>\n",
       "      <th>job_admin.</th>\n",
       "      <th>job_blue-collar</th>\n",
       "      <th>job_entrepreneur</th>\n",
       "      <th>job_housemaid</th>\n",
       "      <th>job_management</th>\n",
       "      <th>job_retired</th>\n",
       "      <th>...</th>\n",
       "      <th>age_group_0-29</th>\n",
       "      <th>age_group_30-39</th>\n",
       "      <th>age_group_40-49</th>\n",
       "      <th>age_group_50-59</th>\n",
       "      <th>age_group_60+</th>\n",
       "      <th>balance_group_&lt; 0</th>\n",
       "      <th>balance_group_1-999</th>\n",
       "      <th>balance_group_1000-4999</th>\n",
       "      <th>balance_group_5000-9999</th>\n",
       "      <th>balance_group_10000+</th>\n",
       "    </tr>\n",
       "  </thead>\n",
       "  <tbody>\n",
       "    <tr>\n",
       "      <th>0</th>\n",
       "      <td>0</td>\n",
       "      <td>0</td>\n",
       "      <td>0</td>\n",
       "      <td>1.316667</td>\n",
       "      <td>0</td>\n",
       "      <td>0</td>\n",
       "      <td>0</td>\n",
       "      <td>0</td>\n",
       "      <td>0</td>\n",
       "      <td>0</td>\n",
       "      <td>...</td>\n",
       "      <td>0</td>\n",
       "      <td>1</td>\n",
       "      <td>0</td>\n",
       "      <td>0</td>\n",
       "      <td>0</td>\n",
       "      <td>0</td>\n",
       "      <td>0</td>\n",
       "      <td>1</td>\n",
       "      <td>0</td>\n",
       "      <td>0</td>\n",
       "    </tr>\n",
       "    <tr>\n",
       "      <th>1</th>\n",
       "      <td>0</td>\n",
       "      <td>1</td>\n",
       "      <td>1</td>\n",
       "      <td>3.666667</td>\n",
       "      <td>0</td>\n",
       "      <td>0</td>\n",
       "      <td>0</td>\n",
       "      <td>0</td>\n",
       "      <td>0</td>\n",
       "      <td>0</td>\n",
       "      <td>...</td>\n",
       "      <td>0</td>\n",
       "      <td>1</td>\n",
       "      <td>0</td>\n",
       "      <td>0</td>\n",
       "      <td>0</td>\n",
       "      <td>0</td>\n",
       "      <td>0</td>\n",
       "      <td>1</td>\n",
       "      <td>0</td>\n",
       "      <td>0</td>\n",
       "    </tr>\n",
       "    <tr>\n",
       "      <th>2</th>\n",
       "      <td>0</td>\n",
       "      <td>1</td>\n",
       "      <td>0</td>\n",
       "      <td>3.083333</td>\n",
       "      <td>0</td>\n",
       "      <td>0</td>\n",
       "      <td>0</td>\n",
       "      <td>0</td>\n",
       "      <td>1</td>\n",
       "      <td>0</td>\n",
       "      <td>...</td>\n",
       "      <td>0</td>\n",
       "      <td>1</td>\n",
       "      <td>0</td>\n",
       "      <td>0</td>\n",
       "      <td>0</td>\n",
       "      <td>0</td>\n",
       "      <td>0</td>\n",
       "      <td>1</td>\n",
       "      <td>0</td>\n",
       "      <td>0</td>\n",
       "    </tr>\n",
       "    <tr>\n",
       "      <th>3</th>\n",
       "      <td>0</td>\n",
       "      <td>1</td>\n",
       "      <td>1</td>\n",
       "      <td>3.316667</td>\n",
       "      <td>0</td>\n",
       "      <td>0</td>\n",
       "      <td>0</td>\n",
       "      <td>0</td>\n",
       "      <td>1</td>\n",
       "      <td>0</td>\n",
       "      <td>...</td>\n",
       "      <td>0</td>\n",
       "      <td>1</td>\n",
       "      <td>0</td>\n",
       "      <td>0</td>\n",
       "      <td>0</td>\n",
       "      <td>0</td>\n",
       "      <td>0</td>\n",
       "      <td>1</td>\n",
       "      <td>0</td>\n",
       "      <td>0</td>\n",
       "    </tr>\n",
       "    <tr>\n",
       "      <th>4</th>\n",
       "      <td>0</td>\n",
       "      <td>1</td>\n",
       "      <td>0</td>\n",
       "      <td>3.766667</td>\n",
       "      <td>0</td>\n",
       "      <td>1</td>\n",
       "      <td>0</td>\n",
       "      <td>0</td>\n",
       "      <td>0</td>\n",
       "      <td>0</td>\n",
       "      <td>...</td>\n",
       "      <td>0</td>\n",
       "      <td>0</td>\n",
       "      <td>0</td>\n",
       "      <td>1</td>\n",
       "      <td>0</td>\n",
       "      <td>1</td>\n",
       "      <td>0</td>\n",
       "      <td>0</td>\n",
       "      <td>0</td>\n",
       "      <td>0</td>\n",
       "    </tr>\n",
       "  </tbody>\n",
       "</table>\n",
       "<p>5 rows × 33 columns</p>\n",
       "</div>"
      ],
      "text/plain": [
       "   success  housing  loan  duration  job_admin.  job_blue-collar  \\\n",
       "0        0        0     0  1.316667           0                0   \n",
       "1        0        1     1  3.666667           0                0   \n",
       "2        0        1     0  3.083333           0                0   \n",
       "3        0        1     1  3.316667           0                0   \n",
       "4        0        1     0  3.766667           0                1   \n",
       "\n",
       "   job_entrepreneur  job_housemaid  job_management  job_retired  \\\n",
       "0                 0              0               0            0   \n",
       "1                 0              0               0            0   \n",
       "2                 0              0               1            0   \n",
       "3                 0              0               1            0   \n",
       "4                 0              0               0            0   \n",
       "\n",
       "           ...           age_group_0-29  age_group_30-39  age_group_40-49  \\\n",
       "0          ...                        0                1                0   \n",
       "1          ...                        0                1                0   \n",
       "2          ...                        0                1                0   \n",
       "3          ...                        0                1                0   \n",
       "4          ...                        0                0                0   \n",
       "\n",
       "   age_group_50-59  age_group_60+  balance_group_< 0  balance_group_1-999  \\\n",
       "0                0              0                  0                    0   \n",
       "1                0              0                  0                    0   \n",
       "2                0              0                  0                    0   \n",
       "3                0              0                  0                    0   \n",
       "4                1              0                  1                    0   \n",
       "\n",
       "   balance_group_1000-4999  balance_group_5000-9999  balance_group_10000+  \n",
       "0                        1                        0                     0  \n",
       "1                        1                        0                     0  \n",
       "2                        1                        0                     0  \n",
       "3                        1                        0                     0  \n",
       "4                        0                        0                     0  \n",
       "\n",
       "[5 rows x 33 columns]"
      ]
     },
     "execution_count": 59,
     "metadata": {},
     "output_type": "execute_result"
    }
   ],
   "source": [
    "run_df.head()"
   ]
  },
  {
   "cell_type": "markdown",
   "metadata": {},
   "source": [
    "# TESTING\n",
    "\n",
    "Duration is by far the most highly correlated variable to success.  \n",
    "looking at the <b>was_contacted</b> variable that was created shows some positive correlation, especially in the 6-10 bin but I think it is worth dropping in favour of keep just <b>duration</b>. if the client was contact is nice to know but it is really the duration of that contact that matters.  \n",
    "\n",
    "<h5>duration</h5>\n",
    "keeping duration as a continuous variable as opposed to a categorical variable gives us a higher correlation. As such i think it is worth while keeping it as continuous. --try to find best practices for this\n",
    "<h5>was_contacted - DROP</h5>\n",
    "this variable would also not be independent of duration and therefore should be dropped\n"
   ]
  },
  {
   "cell_type": "code",
   "execution_count": 60,
   "metadata": {
    "scrolled": true
   },
   "outputs": [
    {
     "data": {
      "text/html": [
       "<div>\n",
       "<style scoped>\n",
       "    .dataframe tbody tr th:only-of-type {\n",
       "        vertical-align: middle;\n",
       "    }\n",
       "\n",
       "    .dataframe tbody tr th {\n",
       "        vertical-align: top;\n",
       "    }\n",
       "\n",
       "    .dataframe thead th {\n",
       "        text-align: right;\n",
       "    }\n",
       "</style>\n",
       "<table border=\"1\" class=\"dataframe\">\n",
       "  <thead>\n",
       "    <tr style=\"text-align: right;\">\n",
       "      <th></th>\n",
       "      <th>success</th>\n",
       "      <th>housing</th>\n",
       "      <th>loan</th>\n",
       "      <th>duration</th>\n",
       "      <th>job_admin.</th>\n",
       "      <th>job_blue-collar</th>\n",
       "      <th>job_entrepreneur</th>\n",
       "      <th>job_housemaid</th>\n",
       "      <th>job_management</th>\n",
       "      <th>job_retired</th>\n",
       "      <th>...</th>\n",
       "      <th>age_group_0-29</th>\n",
       "      <th>age_group_30-39</th>\n",
       "      <th>age_group_40-49</th>\n",
       "      <th>age_group_50-59</th>\n",
       "      <th>age_group_60+</th>\n",
       "      <th>balance_group_&lt; 0</th>\n",
       "      <th>balance_group_1-999</th>\n",
       "      <th>balance_group_1000-4999</th>\n",
       "      <th>balance_group_5000-9999</th>\n",
       "      <th>balance_group_10000+</th>\n",
       "    </tr>\n",
       "  </thead>\n",
       "  <tbody>\n",
       "    <tr>\n",
       "      <th>success</th>\n",
       "      <td>1.000000</td>\n",
       "      <td>-0.104683</td>\n",
       "      <td>-0.070517</td>\n",
       "      <td>0.401118</td>\n",
       "      <td>0.006568</td>\n",
       "      <td>-0.068147</td>\n",
       "      <td>-0.015968</td>\n",
       "      <td>0.004872</td>\n",
       "      <td>0.032634</td>\n",
       "      <td>0.086675</td>\n",
       "      <td>...</td>\n",
       "      <td>0.041421</td>\n",
       "      <td>-0.033023</td>\n",
       "      <td>-0.024506</td>\n",
       "      <td>-0.025510</td>\n",
       "      <td>0.125847</td>\n",
       "      <td>-0.044070</td>\n",
       "      <td>-0.037433</td>\n",
       "      <td>0.082102</td>\n",
       "      <td>0.012939</td>\n",
       "      <td>-0.027485</td>\n",
       "    </tr>\n",
       "    <tr>\n",
       "      <th>housing</th>\n",
       "      <td>-0.104683</td>\n",
       "      <td>1.000000</td>\n",
       "      <td>0.018451</td>\n",
       "      <td>0.015740</td>\n",
       "      <td>0.045632</td>\n",
       "      <td>0.175040</td>\n",
       "      <td>-0.002577</td>\n",
       "      <td>-0.070044</td>\n",
       "      <td>-0.049460</td>\n",
       "      <td>-0.162856</td>\n",
       "      <td>...</td>\n",
       "      <td>0.013269</td>\n",
       "      <td>0.115359</td>\n",
       "      <td>0.045518</td>\n",
       "      <td>-0.122437</td>\n",
       "      <td>-0.170490</td>\n",
       "      <td>0.031370</td>\n",
       "      <td>-0.001322</td>\n",
       "      <td>0.000630</td>\n",
       "      <td>-0.030956</td>\n",
       "      <td>-0.031843</td>\n",
       "    </tr>\n",
       "    <tr>\n",
       "      <th>loan</th>\n",
       "      <td>-0.070517</td>\n",
       "      <td>0.018451</td>\n",
       "      <td>1.000000</td>\n",
       "      <td>-0.004997</td>\n",
       "      <td>0.035866</td>\n",
       "      <td>0.017244</td>\n",
       "      <td>0.049794</td>\n",
       "      <td>-0.016287</td>\n",
       "      <td>-0.042099</td>\n",
       "      <td>-0.008822</td>\n",
       "      <td>...</td>\n",
       "      <td>-0.011293</td>\n",
       "      <td>-0.006699</td>\n",
       "      <td>0.000182</td>\n",
       "      <td>0.046284</td>\n",
       "      <td>-0.059417</td>\n",
       "      <td>0.076298</td>\n",
       "      <td>0.025659</td>\n",
       "      <td>-0.061904</td>\n",
       "      <td>-0.040738</td>\n",
       "      <td>-0.035097</td>\n",
       "    </tr>\n",
       "    <tr>\n",
       "      <th>duration</th>\n",
       "      <td>0.401118</td>\n",
       "      <td>0.015740</td>\n",
       "      <td>-0.004997</td>\n",
       "      <td>1.000000</td>\n",
       "      <td>-0.038763</td>\n",
       "      <td>0.028114</td>\n",
       "      <td>0.016267</td>\n",
       "      <td>0.017588</td>\n",
       "      <td>-0.006884</td>\n",
       "      <td>0.019331</td>\n",
       "      <td>...</td>\n",
       "      <td>0.013648</td>\n",
       "      <td>0.010237</td>\n",
       "      <td>-0.009147</td>\n",
       "      <td>-0.030089</td>\n",
       "      <td>0.034273</td>\n",
       "      <td>-0.001916</td>\n",
       "      <td>-0.014583</td>\n",
       "      <td>0.031946</td>\n",
       "      <td>-0.006478</td>\n",
       "      <td>-0.032742</td>\n",
       "    </tr>\n",
       "    <tr>\n",
       "      <th>job_admin.</th>\n",
       "      <td>0.006568</td>\n",
       "      <td>0.045632</td>\n",
       "      <td>0.035866</td>\n",
       "      <td>-0.038763</td>\n",
       "      <td>1.000000</td>\n",
       "      <td>-0.176876</td>\n",
       "      <td>-0.067550</td>\n",
       "      <td>-0.054803</td>\n",
       "      <td>-0.179592</td>\n",
       "      <td>-0.079606</td>\n",
       "      <td>...</td>\n",
       "      <td>0.025729</td>\n",
       "      <td>0.012984</td>\n",
       "      <td>0.012710</td>\n",
       "      <td>-0.035454</td>\n",
       "      <td>-0.031399</td>\n",
       "      <td>0.008945</td>\n",
       "      <td>0.000038</td>\n",
       "      <td>0.014915</td>\n",
       "      <td>-0.040190</td>\n",
       "      <td>-0.008799</td>\n",
       "    </tr>\n",
       "    <tr>\n",
       "      <th>job_blue-collar</th>\n",
       "      <td>-0.068147</td>\n",
       "      <td>0.175040</td>\n",
       "      <td>0.017244</td>\n",
       "      <td>0.028114</td>\n",
       "      <td>-0.176876</td>\n",
       "      <td>1.000000</td>\n",
       "      <td>-0.101057</td>\n",
       "      <td>-0.081987</td>\n",
       "      <td>-0.268679</td>\n",
       "      <td>-0.119095</td>\n",
       "      <td>...</td>\n",
       "      <td>-0.008557</td>\n",
       "      <td>0.018519</td>\n",
       "      <td>0.040948</td>\n",
       "      <td>-0.025972</td>\n",
       "      <td>-0.074650</td>\n",
       "      <td>0.015897</td>\n",
       "      <td>0.023039</td>\n",
       "      <td>-0.013943</td>\n",
       "      <td>-0.034103</td>\n",
       "      <td>-0.027924</td>\n",
       "    </tr>\n",
       "    <tr>\n",
       "      <th>job_entrepreneur</th>\n",
       "      <td>-0.015968</td>\n",
       "      <td>-0.002577</td>\n",
       "      <td>0.049794</td>\n",
       "      <td>0.016267</td>\n",
       "      <td>-0.067550</td>\n",
       "      <td>-0.101057</td>\n",
       "      <td>1.000000</td>\n",
       "      <td>-0.031311</td>\n",
       "      <td>-0.102609</td>\n",
       "      <td>-0.045483</td>\n",
       "      <td>...</td>\n",
       "      <td>-0.029975</td>\n",
       "      <td>-0.009990</td>\n",
       "      <td>0.029893</td>\n",
       "      <td>0.015730</td>\n",
       "      <td>-0.027147</td>\n",
       "      <td>-0.025097</td>\n",
       "      <td>0.025501</td>\n",
       "      <td>-0.009477</td>\n",
       "      <td>-0.005819</td>\n",
       "      <td>0.013096</td>\n",
       "    </tr>\n",
       "    <tr>\n",
       "      <th>job_housemaid</th>\n",
       "      <td>0.004872</td>\n",
       "      <td>-0.070044</td>\n",
       "      <td>-0.016287</td>\n",
       "      <td>0.017588</td>\n",
       "      <td>-0.054803</td>\n",
       "      <td>-0.081987</td>\n",
       "      <td>-0.031311</td>\n",
       "      <td>1.000000</td>\n",
       "      <td>-0.083246</td>\n",
       "      <td>-0.036900</td>\n",
       "      <td>...</td>\n",
       "      <td>-0.032004</td>\n",
       "      <td>-0.054583</td>\n",
       "      <td>-0.009024</td>\n",
       "      <td>0.090320</td>\n",
       "      <td>0.027293</td>\n",
       "      <td>0.008110</td>\n",
       "      <td>0.004556</td>\n",
       "      <td>-0.029338</td>\n",
       "      <td>0.010813</td>\n",
       "      <td>0.037502</td>\n",
       "    </tr>\n",
       "    <tr>\n",
       "      <th>job_management</th>\n",
       "      <td>0.032634</td>\n",
       "      <td>-0.049460</td>\n",
       "      <td>-0.042099</td>\n",
       "      <td>-0.006884</td>\n",
       "      <td>-0.179592</td>\n",
       "      <td>-0.268679</td>\n",
       "      <td>-0.102609</td>\n",
       "      <td>-0.083246</td>\n",
       "      <td>1.000000</td>\n",
       "      <td>-0.120923</td>\n",
       "      <td>...</td>\n",
       "      <td>-0.058174</td>\n",
       "      <td>0.062151</td>\n",
       "      <td>0.013609</td>\n",
       "      <td>-0.023466</td>\n",
       "      <td>-0.048458</td>\n",
       "      <td>-0.010239</td>\n",
       "      <td>-0.049184</td>\n",
       "      <td>0.030507</td>\n",
       "      <td>0.044101</td>\n",
       "      <td>0.039250</td>\n",
       "    </tr>\n",
       "    <tr>\n",
       "      <th>job_retired</th>\n",
       "      <td>0.086675</td>\n",
       "      <td>-0.162856</td>\n",
       "      <td>-0.008822</td>\n",
       "      <td>0.019331</td>\n",
       "      <td>-0.079606</td>\n",
       "      <td>-0.119095</td>\n",
       "      <td>-0.045483</td>\n",
       "      <td>-0.036900</td>\n",
       "      <td>-0.120923</td>\n",
       "      <td>1.000000</td>\n",
       "      <td>...</td>\n",
       "      <td>-0.076717</td>\n",
       "      <td>-0.182834</td>\n",
       "      <td>-0.118905</td>\n",
       "      <td>0.171151</td>\n",
       "      <td>0.513574</td>\n",
       "      <td>-0.018624</td>\n",
       "      <td>-0.023913</td>\n",
       "      <td>0.016943</td>\n",
       "      <td>0.042194</td>\n",
       "      <td>0.016537</td>\n",
       "    </tr>\n",
       "    <tr>\n",
       "      <th>job_self-employed</th>\n",
       "      <td>-0.003827</td>\n",
       "      <td>-0.035287</td>\n",
       "      <td>0.006331</td>\n",
       "      <td>0.000130</td>\n",
       "      <td>-0.070622</td>\n",
       "      <td>-0.105655</td>\n",
       "      <td>-0.040350</td>\n",
       "      <td>-0.032736</td>\n",
       "      <td>-0.107277</td>\n",
       "      <td>-0.047552</td>\n",
       "      <td>...</td>\n",
       "      <td>-0.012766</td>\n",
       "      <td>-0.005003</td>\n",
       "      <td>0.003315</td>\n",
       "      <td>0.018443</td>\n",
       "      <td>-0.011920</td>\n",
       "      <td>-0.043682</td>\n",
       "      <td>0.027423</td>\n",
       "      <td>0.006557</td>\n",
       "      <td>-0.004115</td>\n",
       "      <td>0.002194</td>\n",
       "    </tr>\n",
       "    <tr>\n",
       "      <th>job_services</th>\n",
       "      <td>-0.024071</td>\n",
       "      <td>0.075524</td>\n",
       "      <td>0.021806</td>\n",
       "      <td>-0.001809</td>\n",
       "      <td>-0.109604</td>\n",
       "      <td>-0.163973</td>\n",
       "      <td>-0.062622</td>\n",
       "      <td>-0.050805</td>\n",
       "      <td>-0.166491</td>\n",
       "      <td>-0.073799</td>\n",
       "      <td>...</td>\n",
       "      <td>0.063264</td>\n",
       "      <td>0.014413</td>\n",
       "      <td>-0.012040</td>\n",
       "      <td>-0.024938</td>\n",
       "      <td>-0.059800</td>\n",
       "      <td>0.038193</td>\n",
       "      <td>0.003500</td>\n",
       "      <td>-0.019364</td>\n",
       "      <td>-0.021511</td>\n",
       "      <td>-0.018872</td>\n",
       "    </tr>\n",
       "    <tr>\n",
       "      <th>job_student</th>\n",
       "      <td>0.047809</td>\n",
       "      <td>-0.091039</td>\n",
       "      <td>-0.053891</td>\n",
       "      <td>-0.008087</td>\n",
       "      <td>-0.047310</td>\n",
       "      <td>-0.070779</td>\n",
       "      <td>-0.027031</td>\n",
       "      <td>-0.021930</td>\n",
       "      <td>-0.071865</td>\n",
       "      <td>-0.031855</td>\n",
       "      <td>...</td>\n",
       "      <td>0.292148</td>\n",
       "      <td>-0.058824</td>\n",
       "      <td>-0.068023</td>\n",
       "      <td>-0.066400</td>\n",
       "      <td>-0.027528</td>\n",
       "      <td>-0.006405</td>\n",
       "      <td>-0.006717</td>\n",
       "      <td>0.000838</td>\n",
       "      <td>0.022744</td>\n",
       "      <td>0.003372</td>\n",
       "    </tr>\n",
       "    <tr>\n",
       "      <th>job_technician</th>\n",
       "      <td>-0.010154</td>\n",
       "      <td>-0.012725</td>\n",
       "      <td>0.002647</td>\n",
       "      <td>-0.020514</td>\n",
       "      <td>-0.155544</td>\n",
       "      <td>-0.232701</td>\n",
       "      <td>-0.088869</td>\n",
       "      <td>-0.072099</td>\n",
       "      <td>-0.236274</td>\n",
       "      <td>-0.104731</td>\n",
       "      <td>...</td>\n",
       "      <td>-0.020764</td>\n",
       "      <td>0.067174</td>\n",
       "      <td>0.012851</td>\n",
       "      <td>-0.045253</td>\n",
       "      <td>-0.075195</td>\n",
       "      <td>-0.001316</td>\n",
       "      <td>0.015793</td>\n",
       "      <td>-0.017598</td>\n",
       "      <td>0.008645</td>\n",
       "      <td>-0.010965</td>\n",
       "    </tr>\n",
       "    <tr>\n",
       "      <th>job_unemployed</th>\n",
       "      <td>-0.007312</td>\n",
       "      <td>-0.038884</td>\n",
       "      <td>-0.024326</td>\n",
       "      <td>0.024507</td>\n",
       "      <td>-0.058693</td>\n",
       "      <td>-0.087808</td>\n",
       "      <td>-0.033534</td>\n",
       "      <td>-0.027206</td>\n",
       "      <td>-0.089156</td>\n",
       "      <td>-0.039519</td>\n",
       "      <td>...</td>\n",
       "      <td>0.010169</td>\n",
       "      <td>-0.022291</td>\n",
       "      <td>0.017926</td>\n",
       "      <td>0.013019</td>\n",
       "      <td>-0.027219</td>\n",
       "      <td>0.020121</td>\n",
       "      <td>-0.006936</td>\n",
       "      <td>0.005532</td>\n",
       "      <td>-0.013374</td>\n",
       "      <td>-0.024602</td>\n",
       "    </tr>\n",
       "    <tr>\n",
       "      <th>job_unknown</th>\n",
       "      <td>0.019886</td>\n",
       "      <td>-0.100258</td>\n",
       "      <td>-0.032373</td>\n",
       "      <td>-0.016668</td>\n",
       "      <td>-0.031657</td>\n",
       "      <td>-0.047360</td>\n",
       "      <td>-0.018087</td>\n",
       "      <td>-0.014674</td>\n",
       "      <td>-0.048088</td>\n",
       "      <td>-0.021315</td>\n",
       "      <td>...</td>\n",
       "      <td>-0.023954</td>\n",
       "      <td>-0.035593</td>\n",
       "      <td>-0.000611</td>\n",
       "      <td>0.042226</td>\n",
       "      <td>0.044554</td>\n",
       "      <td>-0.020339</td>\n",
       "      <td>0.002545</td>\n",
       "      <td>0.011882</td>\n",
       "      <td>0.013330</td>\n",
       "      <td>-0.013269</td>\n",
       "    </tr>\n",
       "    <tr>\n",
       "      <th>marital_divorced</th>\n",
       "      <td>0.034840</td>\n",
       "      <td>-0.001197</td>\n",
       "      <td>0.017798</td>\n",
       "      <td>0.021373</td>\n",
       "      <td>0.029509</td>\n",
       "      <td>-0.053302</td>\n",
       "      <td>-0.013182</td>\n",
       "      <td>-0.000356</td>\n",
       "      <td>0.009788</td>\n",
       "      <td>0.050582</td>\n",
       "      <td>...</td>\n",
       "      <td>-0.096608</td>\n",
       "      <td>-0.081756</td>\n",
       "      <td>0.056890</td>\n",
       "      <td>0.100753</td>\n",
       "      <td>0.027491</td>\n",
       "      <td>0.027362</td>\n",
       "      <td>0.007442</td>\n",
       "      <td>-0.017093</td>\n",
       "      <td>-0.010771</td>\n",
       "      <td>-0.028020</td>\n",
       "    </tr>\n",
       "    <tr>\n",
       "      <th>marital_married</th>\n",
       "      <td>-0.064643</td>\n",
       "      <td>0.038432</td>\n",
       "      <td>0.032272</td>\n",
       "      <td>-0.036436</td>\n",
       "      <td>-0.044020</td>\n",
       "      <td>0.120618</td>\n",
       "      <td>0.067564</td>\n",
       "      <td>0.043095</td>\n",
       "      <td>-0.047153</td>\n",
       "      <td>0.069853</td>\n",
       "      <td>...</td>\n",
       "      <td>-0.249663</td>\n",
       "      <td>-0.088826</td>\n",
       "      <td>0.113089</td>\n",
       "      <td>0.145028</td>\n",
       "      <td>0.071851</td>\n",
       "      <td>0.009570</td>\n",
       "      <td>-0.024102</td>\n",
       "      <td>0.020701</td>\n",
       "      <td>-0.002665</td>\n",
       "      <td>0.000266</td>\n",
       "    </tr>\n",
       "    <tr>\n",
       "      <th>marital_single</th>\n",
       "      <td>0.045815</td>\n",
       "      <td>-0.041449</td>\n",
       "      <td>-0.048496</td>\n",
       "      <td>0.024560</td>\n",
       "      <td>0.026987</td>\n",
       "      <td>-0.094010</td>\n",
       "      <td>-0.064801</td>\n",
       "      <td>-0.047196</td>\n",
       "      <td>0.044796</td>\n",
       "      <td>-0.113750</td>\n",
       "      <td>...</td>\n",
       "      <td>0.345264</td>\n",
       "      <td>0.157340</td>\n",
       "      <td>-0.165953</td>\n",
       "      <td>-0.233061</td>\n",
       "      <td>-0.099137</td>\n",
       "      <td>-0.030461</td>\n",
       "      <td>0.021121</td>\n",
       "      <td>-0.010350</td>\n",
       "      <td>0.010777</td>\n",
       "      <td>0.020109</td>\n",
       "    </tr>\n",
       "    <tr>\n",
       "      <th>education_primary</th>\n",
       "      <td>-0.027420</td>\n",
       "      <td>-0.000956</td>\n",
       "      <td>-0.016574</td>\n",
       "      <td>-0.003640</td>\n",
       "      <td>-0.110174</td>\n",
       "      <td>0.345922</td>\n",
       "      <td>0.002638</td>\n",
       "      <td>0.160240</td>\n",
       "      <td>-0.160506</td>\n",
       "      <td>0.128300</td>\n",
       "      <td>...</td>\n",
       "      <td>-0.092908</td>\n",
       "      <td>-0.143079</td>\n",
       "      <td>0.059706</td>\n",
       "      <td>0.137582</td>\n",
       "      <td>0.096310</td>\n",
       "      <td>0.002660</td>\n",
       "      <td>0.010568</td>\n",
       "      <td>-0.010972</td>\n",
       "      <td>0.007121</td>\n",
       "      <td>-0.021048</td>\n",
       "    </tr>\n",
       "    <tr>\n",
       "      <th>education_secondary</th>\n",
       "      <td>-0.028744</td>\n",
       "      <td>0.111368</td>\n",
       "      <td>0.078139</td>\n",
       "      <td>0.023179</td>\n",
       "      <td>0.214679</td>\n",
       "      <td>0.045120</td>\n",
       "      <td>-0.064775</td>\n",
       "      <td>-0.082916</td>\n",
       "      <td>-0.407851</td>\n",
       "      <td>-0.024797</td>\n",
       "      <td>...</td>\n",
       "      <td>0.080501</td>\n",
       "      <td>0.023307</td>\n",
       "      <td>-0.004613</td>\n",
       "      <td>-0.059453</td>\n",
       "      <td>-0.056930</td>\n",
       "      <td>0.032864</td>\n",
       "      <td>0.036454</td>\n",
       "      <td>-0.030084</td>\n",
       "      <td>-0.059373</td>\n",
       "      <td>-0.031106</td>\n",
       "    </tr>\n",
       "    <tr>\n",
       "      <th>education_tertiary</th>\n",
       "      <td>0.056649</td>\n",
       "      <td>-0.098624</td>\n",
       "      <td>-0.043434</td>\n",
       "      <td>-0.017779</td>\n",
       "      <td>-0.144189</td>\n",
       "      <td>-0.321384</td>\n",
       "      <td>0.058345</td>\n",
       "      <td>-0.035585</td>\n",
       "      <td>0.586132</td>\n",
       "      <td>-0.082877</td>\n",
       "      <td>...</td>\n",
       "      <td>-0.013982</td>\n",
       "      <td>0.117524</td>\n",
       "      <td>-0.042899</td>\n",
       "      <td>-0.070394</td>\n",
       "      <td>-0.035068</td>\n",
       "      <td>-0.032824</td>\n",
       "      <td>-0.045322</td>\n",
       "      <td>0.039742</td>\n",
       "      <td>0.050200</td>\n",
       "      <td>0.046309</td>\n",
       "    </tr>\n",
       "    <tr>\n",
       "      <th>education_unknown</th>\n",
       "      <td>-0.008870</td>\n",
       "      <td>-0.051205</td>\n",
       "      <td>-0.066621</td>\n",
       "      <td>-0.010802</td>\n",
       "      <td>-0.010011</td>\n",
       "      <td>0.005109</td>\n",
       "      <td>0.023790</td>\n",
       "      <td>0.002626</td>\n",
       "      <td>-0.035407</td>\n",
       "      <td>0.022680</td>\n",
       "      <td>...</td>\n",
       "      <td>-0.003372</td>\n",
       "      <td>-0.072069</td>\n",
       "      <td>0.003119</td>\n",
       "      <td>0.064352</td>\n",
       "      <td>0.050831</td>\n",
       "      <td>-0.011835</td>\n",
       "      <td>-0.006305</td>\n",
       "      <td>0.003861</td>\n",
       "      <td>0.020912</td>\n",
       "      <td>0.009399</td>\n",
       "    </tr>\n",
       "    <tr>\n",
       "      <th>age_group_0-29</th>\n",
       "      <td>0.041421</td>\n",
       "      <td>0.013269</td>\n",
       "      <td>-0.011293</td>\n",
       "      <td>0.013648</td>\n",
       "      <td>0.025729</td>\n",
       "      <td>-0.008557</td>\n",
       "      <td>-0.029975</td>\n",
       "      <td>-0.032004</td>\n",
       "      <td>-0.058174</td>\n",
       "      <td>-0.076717</td>\n",
       "      <td>...</td>\n",
       "      <td>1.000000</td>\n",
       "      <td>-0.282008</td>\n",
       "      <td>-0.208009</td>\n",
       "      <td>-0.166709</td>\n",
       "      <td>-0.069114</td>\n",
       "      <td>-0.009936</td>\n",
       "      <td>0.058754</td>\n",
       "      <td>-0.037537</td>\n",
       "      <td>-0.030628</td>\n",
       "      <td>-0.019332</td>\n",
       "    </tr>\n",
       "    <tr>\n",
       "      <th>age_group_30-39</th>\n",
       "      <td>-0.033023</td>\n",
       "      <td>0.115359</td>\n",
       "      <td>-0.006699</td>\n",
       "      <td>0.010237</td>\n",
       "      <td>0.012984</td>\n",
       "      <td>0.018519</td>\n",
       "      <td>-0.009990</td>\n",
       "      <td>-0.054583</td>\n",
       "      <td>0.062151</td>\n",
       "      <td>-0.182834</td>\n",
       "      <td>...</td>\n",
       "      <td>-0.282008</td>\n",
       "      <td>1.000000</td>\n",
       "      <td>-0.491551</td>\n",
       "      <td>-0.393956</td>\n",
       "      <td>-0.163326</td>\n",
       "      <td>0.010919</td>\n",
       "      <td>0.027465</td>\n",
       "      <td>-0.028537</td>\n",
       "      <td>-0.012210</td>\n",
       "      <td>-0.018522</td>\n",
       "    </tr>\n",
       "    <tr>\n",
       "      <th>age_group_40-49</th>\n",
       "      <td>-0.024506</td>\n",
       "      <td>0.045518</td>\n",
       "      <td>0.000182</td>\n",
       "      <td>-0.009147</td>\n",
       "      <td>0.012710</td>\n",
       "      <td>0.040948</td>\n",
       "      <td>0.029893</td>\n",
       "      <td>-0.009024</td>\n",
       "      <td>0.013609</td>\n",
       "      <td>-0.118905</td>\n",
       "      <td>...</td>\n",
       "      <td>-0.208009</td>\n",
       "      <td>-0.491551</td>\n",
       "      <td>1.000000</td>\n",
       "      <td>-0.290582</td>\n",
       "      <td>-0.120469</td>\n",
       "      <td>0.015862</td>\n",
       "      <td>-0.040590</td>\n",
       "      <td>0.019578</td>\n",
       "      <td>0.021678</td>\n",
       "      <td>0.008932</td>\n",
       "    </tr>\n",
       "    <tr>\n",
       "      <th>age_group_50-59</th>\n",
       "      <td>-0.025510</td>\n",
       "      <td>-0.122437</td>\n",
       "      <td>0.046284</td>\n",
       "      <td>-0.030089</td>\n",
       "      <td>-0.035454</td>\n",
       "      <td>-0.025972</td>\n",
       "      <td>0.015730</td>\n",
       "      <td>0.090320</td>\n",
       "      <td>-0.023466</td>\n",
       "      <td>0.171151</td>\n",
       "      <td>...</td>\n",
       "      <td>-0.166709</td>\n",
       "      <td>-0.393956</td>\n",
       "      <td>-0.290582</td>\n",
       "      <td>1.000000</td>\n",
       "      <td>-0.096550</td>\n",
       "      <td>0.000660</td>\n",
       "      <td>-0.027893</td>\n",
       "      <td>0.027871</td>\n",
       "      <td>0.000025</td>\n",
       "      <td>0.010492</td>\n",
       "    </tr>\n",
       "    <tr>\n",
       "      <th>age_group_60+</th>\n",
       "      <td>0.125847</td>\n",
       "      <td>-0.170490</td>\n",
       "      <td>-0.059417</td>\n",
       "      <td>0.034273</td>\n",
       "      <td>-0.031399</td>\n",
       "      <td>-0.074650</td>\n",
       "      <td>-0.027147</td>\n",
       "      <td>0.027293</td>\n",
       "      <td>-0.048458</td>\n",
       "      <td>0.513574</td>\n",
       "      <td>...</td>\n",
       "      <td>-0.069114</td>\n",
       "      <td>-0.163326</td>\n",
       "      <td>-0.120469</td>\n",
       "      <td>-0.096550</td>\n",
       "      <td>1.000000</td>\n",
       "      <td>-0.049647</td>\n",
       "      <td>-0.014204</td>\n",
       "      <td>0.031206</td>\n",
       "      <td>0.030382</td>\n",
       "      <td>0.036314</td>\n",
       "    </tr>\n",
       "    <tr>\n",
       "      <th>balance_group_&lt; 0</th>\n",
       "      <td>-0.044070</td>\n",
       "      <td>0.031370</td>\n",
       "      <td>0.076298</td>\n",
       "      <td>-0.001916</td>\n",
       "      <td>0.008945</td>\n",
       "      <td>0.015897</td>\n",
       "      <td>-0.025097</td>\n",
       "      <td>0.008110</td>\n",
       "      <td>-0.010239</td>\n",
       "      <td>-0.018624</td>\n",
       "      <td>...</td>\n",
       "      <td>-0.009936</td>\n",
       "      <td>0.010919</td>\n",
       "      <td>0.015862</td>\n",
       "      <td>0.000660</td>\n",
       "      <td>-0.049647</td>\n",
       "      <td>1.000000</td>\n",
       "      <td>-0.447351</td>\n",
       "      <td>-0.258106</td>\n",
       "      <td>-0.097968</td>\n",
       "      <td>-0.062883</td>\n",
       "    </tr>\n",
       "    <tr>\n",
       "      <th>balance_group_1-999</th>\n",
       "      <td>-0.037433</td>\n",
       "      <td>-0.001322</td>\n",
       "      <td>0.025659</td>\n",
       "      <td>-0.014583</td>\n",
       "      <td>0.000038</td>\n",
       "      <td>0.023039</td>\n",
       "      <td>0.025501</td>\n",
       "      <td>0.004556</td>\n",
       "      <td>-0.049184</td>\n",
       "      <td>-0.023913</td>\n",
       "      <td>...</td>\n",
       "      <td>0.058754</td>\n",
       "      <td>0.027465</td>\n",
       "      <td>-0.040590</td>\n",
       "      <td>-0.027893</td>\n",
       "      <td>-0.014204</td>\n",
       "      <td>-0.447351</td>\n",
       "      <td>1.000000</td>\n",
       "      <td>-0.606546</td>\n",
       "      <td>-0.230224</td>\n",
       "      <td>-0.147774</td>\n",
       "    </tr>\n",
       "    <tr>\n",
       "      <th>balance_group_1000-4999</th>\n",
       "      <td>0.082102</td>\n",
       "      <td>0.000630</td>\n",
       "      <td>-0.061904</td>\n",
       "      <td>0.031946</td>\n",
       "      <td>0.014915</td>\n",
       "      <td>-0.013943</td>\n",
       "      <td>-0.009477</td>\n",
       "      <td>-0.029338</td>\n",
       "      <td>0.030507</td>\n",
       "      <td>0.016943</td>\n",
       "      <td>...</td>\n",
       "      <td>-0.037537</td>\n",
       "      <td>-0.028537</td>\n",
       "      <td>0.019578</td>\n",
       "      <td>0.027871</td>\n",
       "      <td>0.031206</td>\n",
       "      <td>-0.258106</td>\n",
       "      <td>-0.606546</td>\n",
       "      <td>1.000000</td>\n",
       "      <td>-0.132831</td>\n",
       "      <td>-0.085260</td>\n",
       "    </tr>\n",
       "    <tr>\n",
       "      <th>balance_group_5000-9999</th>\n",
       "      <td>0.012939</td>\n",
       "      <td>-0.030956</td>\n",
       "      <td>-0.040738</td>\n",
       "      <td>-0.006478</td>\n",
       "      <td>-0.040190</td>\n",
       "      <td>-0.034103</td>\n",
       "      <td>-0.005819</td>\n",
       "      <td>0.010813</td>\n",
       "      <td>0.044101</td>\n",
       "      <td>0.042194</td>\n",
       "      <td>...</td>\n",
       "      <td>-0.030628</td>\n",
       "      <td>-0.012210</td>\n",
       "      <td>0.021678</td>\n",
       "      <td>0.000025</td>\n",
       "      <td>0.030382</td>\n",
       "      <td>-0.097968</td>\n",
       "      <td>-0.230224</td>\n",
       "      <td>-0.132831</td>\n",
       "      <td>1.000000</td>\n",
       "      <td>-0.032362</td>\n",
       "    </tr>\n",
       "    <tr>\n",
       "      <th>balance_group_10000+</th>\n",
       "      <td>-0.027485</td>\n",
       "      <td>-0.031843</td>\n",
       "      <td>-0.035097</td>\n",
       "      <td>-0.032742</td>\n",
       "      <td>-0.008799</td>\n",
       "      <td>-0.027924</td>\n",
       "      <td>0.013096</td>\n",
       "      <td>0.037502</td>\n",
       "      <td>0.039250</td>\n",
       "      <td>0.016537</td>\n",
       "      <td>...</td>\n",
       "      <td>-0.019332</td>\n",
       "      <td>-0.018522</td>\n",
       "      <td>0.008932</td>\n",
       "      <td>0.010492</td>\n",
       "      <td>0.036314</td>\n",
       "      <td>-0.062883</td>\n",
       "      <td>-0.147774</td>\n",
       "      <td>-0.085260</td>\n",
       "      <td>-0.032362</td>\n",
       "      <td>1.000000</td>\n",
       "    </tr>\n",
       "  </tbody>\n",
       "</table>\n",
       "<p>33 rows × 33 columns</p>\n",
       "</div>"
      ],
      "text/plain": [
       "                          success   housing      loan  duration  job_admin.  \\\n",
       "success                  1.000000 -0.104683 -0.070517  0.401118    0.006568   \n",
       "housing                 -0.104683  1.000000  0.018451  0.015740    0.045632   \n",
       "loan                    -0.070517  0.018451  1.000000 -0.004997    0.035866   \n",
       "duration                 0.401118  0.015740 -0.004997  1.000000   -0.038763   \n",
       "job_admin.               0.006568  0.045632  0.035866 -0.038763    1.000000   \n",
       "job_blue-collar         -0.068147  0.175040  0.017244  0.028114   -0.176876   \n",
       "job_entrepreneur        -0.015968 -0.002577  0.049794  0.016267   -0.067550   \n",
       "job_housemaid            0.004872 -0.070044 -0.016287  0.017588   -0.054803   \n",
       "job_management           0.032634 -0.049460 -0.042099 -0.006884   -0.179592   \n",
       "job_retired              0.086675 -0.162856 -0.008822  0.019331   -0.079606   \n",
       "job_self-employed       -0.003827 -0.035287  0.006331  0.000130   -0.070622   \n",
       "job_services            -0.024071  0.075524  0.021806 -0.001809   -0.109604   \n",
       "job_student              0.047809 -0.091039 -0.053891 -0.008087   -0.047310   \n",
       "job_technician          -0.010154 -0.012725  0.002647 -0.020514   -0.155544   \n",
       "job_unemployed          -0.007312 -0.038884 -0.024326  0.024507   -0.058693   \n",
       "job_unknown              0.019886 -0.100258 -0.032373 -0.016668   -0.031657   \n",
       "marital_divorced         0.034840 -0.001197  0.017798  0.021373    0.029509   \n",
       "marital_married         -0.064643  0.038432  0.032272 -0.036436   -0.044020   \n",
       "marital_single           0.045815 -0.041449 -0.048496  0.024560    0.026987   \n",
       "education_primary       -0.027420 -0.000956 -0.016574 -0.003640   -0.110174   \n",
       "education_secondary     -0.028744  0.111368  0.078139  0.023179    0.214679   \n",
       "education_tertiary       0.056649 -0.098624 -0.043434 -0.017779   -0.144189   \n",
       "education_unknown       -0.008870 -0.051205 -0.066621 -0.010802   -0.010011   \n",
       "age_group_0-29           0.041421  0.013269 -0.011293  0.013648    0.025729   \n",
       "age_group_30-39         -0.033023  0.115359 -0.006699  0.010237    0.012984   \n",
       "age_group_40-49         -0.024506  0.045518  0.000182 -0.009147    0.012710   \n",
       "age_group_50-59         -0.025510 -0.122437  0.046284 -0.030089   -0.035454   \n",
       "age_group_60+            0.125847 -0.170490 -0.059417  0.034273   -0.031399   \n",
       "balance_group_< 0       -0.044070  0.031370  0.076298 -0.001916    0.008945   \n",
       "balance_group_1-999     -0.037433 -0.001322  0.025659 -0.014583    0.000038   \n",
       "balance_group_1000-4999  0.082102  0.000630 -0.061904  0.031946    0.014915   \n",
       "balance_group_5000-9999  0.012939 -0.030956 -0.040738 -0.006478   -0.040190   \n",
       "balance_group_10000+    -0.027485 -0.031843 -0.035097 -0.032742   -0.008799   \n",
       "\n",
       "                         job_blue-collar  job_entrepreneur  job_housemaid  \\\n",
       "success                        -0.068147         -0.015968       0.004872   \n",
       "housing                         0.175040         -0.002577      -0.070044   \n",
       "loan                            0.017244          0.049794      -0.016287   \n",
       "duration                        0.028114          0.016267       0.017588   \n",
       "job_admin.                     -0.176876         -0.067550      -0.054803   \n",
       "job_blue-collar                 1.000000         -0.101057      -0.081987   \n",
       "job_entrepreneur               -0.101057          1.000000      -0.031311   \n",
       "job_housemaid                  -0.081987         -0.031311       1.000000   \n",
       "job_management                 -0.268679         -0.102609      -0.083246   \n",
       "job_retired                    -0.119095         -0.045483      -0.036900   \n",
       "job_self-employed              -0.105655         -0.040350      -0.032736   \n",
       "job_services                   -0.163973         -0.062622      -0.050805   \n",
       "job_student                    -0.070779         -0.027031      -0.021930   \n",
       "job_technician                 -0.232701         -0.088869      -0.072099   \n",
       "job_unemployed                 -0.087808         -0.033534      -0.027206   \n",
       "job_unknown                    -0.047360         -0.018087      -0.014674   \n",
       "marital_divorced               -0.053302         -0.013182      -0.000356   \n",
       "marital_married                 0.120618          0.067564       0.043095   \n",
       "marital_single                 -0.094010         -0.064801      -0.047196   \n",
       "education_primary               0.345922          0.002638       0.160240   \n",
       "education_secondary             0.045120         -0.064775      -0.082916   \n",
       "education_tertiary             -0.321384          0.058345      -0.035585   \n",
       "education_unknown               0.005109          0.023790       0.002626   \n",
       "age_group_0-29                 -0.008557         -0.029975      -0.032004   \n",
       "age_group_30-39                 0.018519         -0.009990      -0.054583   \n",
       "age_group_40-49                 0.040948          0.029893      -0.009024   \n",
       "age_group_50-59                -0.025972          0.015730       0.090320   \n",
       "age_group_60+                  -0.074650         -0.027147       0.027293   \n",
       "balance_group_< 0               0.015897         -0.025097       0.008110   \n",
       "balance_group_1-999             0.023039          0.025501       0.004556   \n",
       "balance_group_1000-4999        -0.013943         -0.009477      -0.029338   \n",
       "balance_group_5000-9999        -0.034103         -0.005819       0.010813   \n",
       "balance_group_10000+           -0.027924          0.013096       0.037502   \n",
       "\n",
       "                         job_management  job_retired          ...           \\\n",
       "success                        0.032634     0.086675          ...            \n",
       "housing                       -0.049460    -0.162856          ...            \n",
       "loan                          -0.042099    -0.008822          ...            \n",
       "duration                      -0.006884     0.019331          ...            \n",
       "job_admin.                    -0.179592    -0.079606          ...            \n",
       "job_blue-collar               -0.268679    -0.119095          ...            \n",
       "job_entrepreneur              -0.102609    -0.045483          ...            \n",
       "job_housemaid                 -0.083246    -0.036900          ...            \n",
       "job_management                 1.000000    -0.120923          ...            \n",
       "job_retired                   -0.120923     1.000000          ...            \n",
       "job_self-employed             -0.107277    -0.047552          ...            \n",
       "job_services                  -0.166491    -0.073799          ...            \n",
       "job_student                   -0.071865    -0.031855          ...            \n",
       "job_technician                -0.236274    -0.104731          ...            \n",
       "job_unemployed                -0.089156    -0.039519          ...            \n",
       "job_unknown                   -0.048088    -0.021315          ...            \n",
       "marital_divorced               0.009788     0.050582          ...            \n",
       "marital_married               -0.047153     0.069853          ...            \n",
       "marital_single                 0.044796    -0.113750          ...            \n",
       "education_primary             -0.160506     0.128300          ...            \n",
       "education_secondary           -0.407851    -0.024797          ...            \n",
       "education_tertiary             0.586132    -0.082877          ...            \n",
       "education_unknown             -0.035407     0.022680          ...            \n",
       "age_group_0-29                -0.058174    -0.076717          ...            \n",
       "age_group_30-39                0.062151    -0.182834          ...            \n",
       "age_group_40-49                0.013609    -0.118905          ...            \n",
       "age_group_50-59               -0.023466     0.171151          ...            \n",
       "age_group_60+                 -0.048458     0.513574          ...            \n",
       "balance_group_< 0             -0.010239    -0.018624          ...            \n",
       "balance_group_1-999           -0.049184    -0.023913          ...            \n",
       "balance_group_1000-4999        0.030507     0.016943          ...            \n",
       "balance_group_5000-9999        0.044101     0.042194          ...            \n",
       "balance_group_10000+           0.039250     0.016537          ...            \n",
       "\n",
       "                         age_group_0-29  age_group_30-39  age_group_40-49  \\\n",
       "success                        0.041421        -0.033023        -0.024506   \n",
       "housing                        0.013269         0.115359         0.045518   \n",
       "loan                          -0.011293        -0.006699         0.000182   \n",
       "duration                       0.013648         0.010237        -0.009147   \n",
       "job_admin.                     0.025729         0.012984         0.012710   \n",
       "job_blue-collar               -0.008557         0.018519         0.040948   \n",
       "job_entrepreneur              -0.029975        -0.009990         0.029893   \n",
       "job_housemaid                 -0.032004        -0.054583        -0.009024   \n",
       "job_management                -0.058174         0.062151         0.013609   \n",
       "job_retired                   -0.076717        -0.182834        -0.118905   \n",
       "job_self-employed             -0.012766        -0.005003         0.003315   \n",
       "job_services                   0.063264         0.014413        -0.012040   \n",
       "job_student                    0.292148        -0.058824        -0.068023   \n",
       "job_technician                -0.020764         0.067174         0.012851   \n",
       "job_unemployed                 0.010169        -0.022291         0.017926   \n",
       "job_unknown                   -0.023954        -0.035593        -0.000611   \n",
       "marital_divorced              -0.096608        -0.081756         0.056890   \n",
       "marital_married               -0.249663        -0.088826         0.113089   \n",
       "marital_single                 0.345264         0.157340        -0.165953   \n",
       "education_primary             -0.092908        -0.143079         0.059706   \n",
       "education_secondary            0.080501         0.023307        -0.004613   \n",
       "education_tertiary            -0.013982         0.117524        -0.042899   \n",
       "education_unknown             -0.003372        -0.072069         0.003119   \n",
       "age_group_0-29                 1.000000        -0.282008        -0.208009   \n",
       "age_group_30-39               -0.282008         1.000000        -0.491551   \n",
       "age_group_40-49               -0.208009        -0.491551         1.000000   \n",
       "age_group_50-59               -0.166709        -0.393956        -0.290582   \n",
       "age_group_60+                 -0.069114        -0.163326        -0.120469   \n",
       "balance_group_< 0             -0.009936         0.010919         0.015862   \n",
       "balance_group_1-999            0.058754         0.027465        -0.040590   \n",
       "balance_group_1000-4999       -0.037537        -0.028537         0.019578   \n",
       "balance_group_5000-9999       -0.030628        -0.012210         0.021678   \n",
       "balance_group_10000+          -0.019332        -0.018522         0.008932   \n",
       "\n",
       "                         age_group_50-59  age_group_60+  balance_group_< 0  \\\n",
       "success                        -0.025510       0.125847          -0.044070   \n",
       "housing                        -0.122437      -0.170490           0.031370   \n",
       "loan                            0.046284      -0.059417           0.076298   \n",
       "duration                       -0.030089       0.034273          -0.001916   \n",
       "job_admin.                     -0.035454      -0.031399           0.008945   \n",
       "job_blue-collar                -0.025972      -0.074650           0.015897   \n",
       "job_entrepreneur                0.015730      -0.027147          -0.025097   \n",
       "job_housemaid                   0.090320       0.027293           0.008110   \n",
       "job_management                 -0.023466      -0.048458          -0.010239   \n",
       "job_retired                     0.171151       0.513574          -0.018624   \n",
       "job_self-employed               0.018443      -0.011920          -0.043682   \n",
       "job_services                   -0.024938      -0.059800           0.038193   \n",
       "job_student                    -0.066400      -0.027528          -0.006405   \n",
       "job_technician                 -0.045253      -0.075195          -0.001316   \n",
       "job_unemployed                  0.013019      -0.027219           0.020121   \n",
       "job_unknown                     0.042226       0.044554          -0.020339   \n",
       "marital_divorced                0.100753       0.027491           0.027362   \n",
       "marital_married                 0.145028       0.071851           0.009570   \n",
       "marital_single                 -0.233061      -0.099137          -0.030461   \n",
       "education_primary               0.137582       0.096310           0.002660   \n",
       "education_secondary            -0.059453      -0.056930           0.032864   \n",
       "education_tertiary             -0.070394      -0.035068          -0.032824   \n",
       "education_unknown               0.064352       0.050831          -0.011835   \n",
       "age_group_0-29                 -0.166709      -0.069114          -0.009936   \n",
       "age_group_30-39                -0.393956      -0.163326           0.010919   \n",
       "age_group_40-49                -0.290582      -0.120469           0.015862   \n",
       "age_group_50-59                 1.000000      -0.096550           0.000660   \n",
       "age_group_60+                  -0.096550       1.000000          -0.049647   \n",
       "balance_group_< 0               0.000660      -0.049647           1.000000   \n",
       "balance_group_1-999            -0.027893      -0.014204          -0.447351   \n",
       "balance_group_1000-4999         0.027871       0.031206          -0.258106   \n",
       "balance_group_5000-9999         0.000025       0.030382          -0.097968   \n",
       "balance_group_10000+            0.010492       0.036314          -0.062883   \n",
       "\n",
       "                         balance_group_1-999  balance_group_1000-4999  \\\n",
       "success                            -0.037433                 0.082102   \n",
       "housing                            -0.001322                 0.000630   \n",
       "loan                                0.025659                -0.061904   \n",
       "duration                           -0.014583                 0.031946   \n",
       "job_admin.                          0.000038                 0.014915   \n",
       "job_blue-collar                     0.023039                -0.013943   \n",
       "job_entrepreneur                    0.025501                -0.009477   \n",
       "job_housemaid                       0.004556                -0.029338   \n",
       "job_management                     -0.049184                 0.030507   \n",
       "job_retired                        -0.023913                 0.016943   \n",
       "job_self-employed                   0.027423                 0.006557   \n",
       "job_services                        0.003500                -0.019364   \n",
       "job_student                        -0.006717                 0.000838   \n",
       "job_technician                      0.015793                -0.017598   \n",
       "job_unemployed                     -0.006936                 0.005532   \n",
       "job_unknown                         0.002545                 0.011882   \n",
       "marital_divorced                    0.007442                -0.017093   \n",
       "marital_married                    -0.024102                 0.020701   \n",
       "marital_single                      0.021121                -0.010350   \n",
       "education_primary                   0.010568                -0.010972   \n",
       "education_secondary                 0.036454                -0.030084   \n",
       "education_tertiary                 -0.045322                 0.039742   \n",
       "education_unknown                  -0.006305                 0.003861   \n",
       "age_group_0-29                      0.058754                -0.037537   \n",
       "age_group_30-39                     0.027465                -0.028537   \n",
       "age_group_40-49                    -0.040590                 0.019578   \n",
       "age_group_50-59                    -0.027893                 0.027871   \n",
       "age_group_60+                      -0.014204                 0.031206   \n",
       "balance_group_< 0                  -0.447351                -0.258106   \n",
       "balance_group_1-999                 1.000000                -0.606546   \n",
       "balance_group_1000-4999            -0.606546                 1.000000   \n",
       "balance_group_5000-9999            -0.230224                -0.132831   \n",
       "balance_group_10000+               -0.147774                -0.085260   \n",
       "\n",
       "                         balance_group_5000-9999  balance_group_10000+  \n",
       "success                                 0.012939             -0.027485  \n",
       "housing                                -0.030956             -0.031843  \n",
       "loan                                   -0.040738             -0.035097  \n",
       "duration                               -0.006478             -0.032742  \n",
       "job_admin.                             -0.040190             -0.008799  \n",
       "job_blue-collar                        -0.034103             -0.027924  \n",
       "job_entrepreneur                       -0.005819              0.013096  \n",
       "job_housemaid                           0.010813              0.037502  \n",
       "job_management                          0.044101              0.039250  \n",
       "job_retired                             0.042194              0.016537  \n",
       "job_self-employed                      -0.004115              0.002194  \n",
       "job_services                           -0.021511             -0.018872  \n",
       "job_student                             0.022744              0.003372  \n",
       "job_technician                          0.008645             -0.010965  \n",
       "job_unemployed                         -0.013374             -0.024602  \n",
       "job_unknown                             0.013330             -0.013269  \n",
       "marital_divorced                       -0.010771             -0.028020  \n",
       "marital_married                        -0.002665              0.000266  \n",
       "marital_single                          0.010777              0.020109  \n",
       "education_primary                       0.007121             -0.021048  \n",
       "education_secondary                    -0.059373             -0.031106  \n",
       "education_tertiary                      0.050200              0.046309  \n",
       "education_unknown                       0.020912              0.009399  \n",
       "age_group_0-29                         -0.030628             -0.019332  \n",
       "age_group_30-39                        -0.012210             -0.018522  \n",
       "age_group_40-49                         0.021678              0.008932  \n",
       "age_group_50-59                         0.000025              0.010492  \n",
       "age_group_60+                           0.030382              0.036314  \n",
       "balance_group_< 0                      -0.097968             -0.062883  \n",
       "balance_group_1-999                    -0.230224             -0.147774  \n",
       "balance_group_1000-4999                -0.132831             -0.085260  \n",
       "balance_group_5000-9999                 1.000000             -0.032362  \n",
       "balance_group_10000+                   -0.032362              1.000000  \n",
       "\n",
       "[33 rows x 33 columns]"
      ]
     },
     "execution_count": 60,
     "metadata": {},
     "output_type": "execute_result"
    }
   ],
   "source": [
    "corr = run_df.corr()\n",
    "corr"
   ]
  },
  {
   "cell_type": "code",
   "execution_count": 61,
   "metadata": {},
   "outputs": [],
   "source": [
    "# Extract the success column (the dependent variable)\n",
    "corr_success = pd.DataFrame(corr['success'].drop('success'))\n",
    "test3 = corr_success.sort_values(by ='success', ascending = False)"
   ]
  },
  {
   "cell_type": "code",
   "execution_count": 215,
   "metadata": {},
   "outputs": [
    {
     "data": {
      "text/html": [
       "<div>\n",
       "<style scoped>\n",
       "    .dataframe tbody tr th:only-of-type {\n",
       "        vertical-align: middle;\n",
       "    }\n",
       "\n",
       "    .dataframe tbody tr th {\n",
       "        vertical-align: top;\n",
       "    }\n",
       "\n",
       "    .dataframe thead th {\n",
       "        text-align: right;\n",
       "    }\n",
       "</style>\n",
       "<table border=\"1\" class=\"dataframe\">\n",
       "  <thead>\n",
       "    <tr style=\"text-align: right;\">\n",
       "      <th></th>\n",
       "      <th>feature</th>\n",
       "      <th>correlation</th>\n",
       "    </tr>\n",
       "  </thead>\n",
       "  <tbody>\n",
       "    <tr>\n",
       "      <th>0</th>\n",
       "      <td>duration</td>\n",
       "      <td>0.401118</td>\n",
       "    </tr>\n",
       "    <tr>\n",
       "      <th>1</th>\n",
       "      <td>age_group_60+</td>\n",
       "      <td>0.125847</td>\n",
       "    </tr>\n",
       "    <tr>\n",
       "      <th>2</th>\n",
       "      <td>job_retired</td>\n",
       "      <td>0.086675</td>\n",
       "    </tr>\n",
       "    <tr>\n",
       "      <th>3</th>\n",
       "      <td>balance_group_1000-4999</td>\n",
       "      <td>0.082102</td>\n",
       "    </tr>\n",
       "    <tr>\n",
       "      <th>4</th>\n",
       "      <td>education_tertiary</td>\n",
       "      <td>0.056649</td>\n",
       "    </tr>\n",
       "    <tr>\n",
       "      <th>5</th>\n",
       "      <td>job_student</td>\n",
       "      <td>0.047809</td>\n",
       "    </tr>\n",
       "    <tr>\n",
       "      <th>6</th>\n",
       "      <td>marital_single</td>\n",
       "      <td>0.045815</td>\n",
       "    </tr>\n",
       "    <tr>\n",
       "      <th>7</th>\n",
       "      <td>age_group_0-29</td>\n",
       "      <td>0.041421</td>\n",
       "    </tr>\n",
       "    <tr>\n",
       "      <th>8</th>\n",
       "      <td>marital_divorced</td>\n",
       "      <td>0.034840</td>\n",
       "    </tr>\n",
       "    <tr>\n",
       "      <th>9</th>\n",
       "      <td>job_management</td>\n",
       "      <td>0.032634</td>\n",
       "    </tr>\n",
       "    <tr>\n",
       "      <th>10</th>\n",
       "      <td>job_unknown</td>\n",
       "      <td>0.019886</td>\n",
       "    </tr>\n",
       "    <tr>\n",
       "      <th>11</th>\n",
       "      <td>balance_group_5000-9999</td>\n",
       "      <td>0.012939</td>\n",
       "    </tr>\n",
       "    <tr>\n",
       "      <th>12</th>\n",
       "      <td>job_admin.</td>\n",
       "      <td>0.006568</td>\n",
       "    </tr>\n",
       "    <tr>\n",
       "      <th>13</th>\n",
       "      <td>job_housemaid</td>\n",
       "      <td>0.004872</td>\n",
       "    </tr>\n",
       "    <tr>\n",
       "      <th>14</th>\n",
       "      <td>job_self-employed</td>\n",
       "      <td>-0.003827</td>\n",
       "    </tr>\n",
       "    <tr>\n",
       "      <th>15</th>\n",
       "      <td>job_unemployed</td>\n",
       "      <td>-0.007312</td>\n",
       "    </tr>\n",
       "    <tr>\n",
       "      <th>16</th>\n",
       "      <td>education_unknown</td>\n",
       "      <td>-0.008870</td>\n",
       "    </tr>\n",
       "    <tr>\n",
       "      <th>17</th>\n",
       "      <td>job_technician</td>\n",
       "      <td>-0.010154</td>\n",
       "    </tr>\n",
       "    <tr>\n",
       "      <th>18</th>\n",
       "      <td>job_entrepreneur</td>\n",
       "      <td>-0.015968</td>\n",
       "    </tr>\n",
       "    <tr>\n",
       "      <th>19</th>\n",
       "      <td>job_services</td>\n",
       "      <td>-0.024071</td>\n",
       "    </tr>\n",
       "    <tr>\n",
       "      <th>20</th>\n",
       "      <td>age_group_40-49</td>\n",
       "      <td>-0.024506</td>\n",
       "    </tr>\n",
       "    <tr>\n",
       "      <th>21</th>\n",
       "      <td>age_group_50-59</td>\n",
       "      <td>-0.025510</td>\n",
       "    </tr>\n",
       "    <tr>\n",
       "      <th>22</th>\n",
       "      <td>education_primary</td>\n",
       "      <td>-0.027420</td>\n",
       "    </tr>\n",
       "    <tr>\n",
       "      <th>23</th>\n",
       "      <td>balance_group_10000+</td>\n",
       "      <td>-0.027485</td>\n",
       "    </tr>\n",
       "    <tr>\n",
       "      <th>24</th>\n",
       "      <td>education_secondary</td>\n",
       "      <td>-0.028744</td>\n",
       "    </tr>\n",
       "    <tr>\n",
       "      <th>25</th>\n",
       "      <td>age_group_30-39</td>\n",
       "      <td>-0.033023</td>\n",
       "    </tr>\n",
       "    <tr>\n",
       "      <th>26</th>\n",
       "      <td>balance_group_1-999</td>\n",
       "      <td>-0.037433</td>\n",
       "    </tr>\n",
       "    <tr>\n",
       "      <th>27</th>\n",
       "      <td>balance_group_&lt; 0</td>\n",
       "      <td>-0.044070</td>\n",
       "    </tr>\n",
       "    <tr>\n",
       "      <th>28</th>\n",
       "      <td>marital_married</td>\n",
       "      <td>-0.064643</td>\n",
       "    </tr>\n",
       "    <tr>\n",
       "      <th>29</th>\n",
       "      <td>job_blue-collar</td>\n",
       "      <td>-0.068147</td>\n",
       "    </tr>\n",
       "    <tr>\n",
       "      <th>30</th>\n",
       "      <td>loan</td>\n",
       "      <td>-0.070517</td>\n",
       "    </tr>\n",
       "    <tr>\n",
       "      <th>31</th>\n",
       "      <td>housing</td>\n",
       "      <td>-0.104683</td>\n",
       "    </tr>\n",
       "  </tbody>\n",
       "</table>\n",
       "</div>"
      ],
      "text/plain": [
       "                    feature  correlation\n",
       "0                  duration     0.401118\n",
       "1             age_group_60+     0.125847\n",
       "2               job_retired     0.086675\n",
       "3   balance_group_1000-4999     0.082102\n",
       "4        education_tertiary     0.056649\n",
       "5               job_student     0.047809\n",
       "6            marital_single     0.045815\n",
       "7            age_group_0-29     0.041421\n",
       "8          marital_divorced     0.034840\n",
       "9            job_management     0.032634\n",
       "10              job_unknown     0.019886\n",
       "11  balance_group_5000-9999     0.012939\n",
       "12               job_admin.     0.006568\n",
       "13            job_housemaid     0.004872\n",
       "14        job_self-employed    -0.003827\n",
       "15           job_unemployed    -0.007312\n",
       "16        education_unknown    -0.008870\n",
       "17           job_technician    -0.010154\n",
       "18         job_entrepreneur    -0.015968\n",
       "19             job_services    -0.024071\n",
       "20          age_group_40-49    -0.024506\n",
       "21          age_group_50-59    -0.025510\n",
       "22        education_primary    -0.027420\n",
       "23     balance_group_10000+    -0.027485\n",
       "24      education_secondary    -0.028744\n",
       "25          age_group_30-39    -0.033023\n",
       "26      balance_group_1-999    -0.037433\n",
       "27        balance_group_< 0    -0.044070\n",
       "28          marital_married    -0.064643\n",
       "29          job_blue-collar    -0.068147\n",
       "30                     loan    -0.070517\n",
       "31                  housing    -0.104683"
      ]
     },
     "execution_count": 215,
     "metadata": {},
     "output_type": "execute_result"
    }
   ],
   "source": [
    "test3 = test3.reset_index()\n",
    "results_corr = test3.rename(columns={'index': 'feature','success':'correlation'})\n",
    "results_corr"
   ]
  },
  {
   "cell_type": "markdown",
   "metadata": {},
   "source": [
    "# Models\n",
    "\n",
    "    1. Naive Bayes Models\n",
    "        1. Multinomial - good for when your features (categorical or continous) describe discrete frequency counts \n",
    "        2. Bernoulli - good for making predictions from binary features\n",
    "        3. Gaussian - good for making predictions form normally distributed features\n",
    "    2. Gradient Boosting Classifier\n",
    "    3. Decision tree model\n",
    "        1. SMOTE\n",
    "        2. ADASYN\n",
    "    4. Random Forest\n"
   ]
  },
  {
   "cell_type": "code",
   "execution_count": 62,
   "metadata": {},
   "outputs": [],
   "source": [
    "array = run_df.values\n",
    "X = array[:,1:] # Features/Independent Variables\n",
    "Y = array[:,0] # Dependent Variable"
   ]
  },
  {
   "cell_type": "code",
   "execution_count": 64,
   "metadata": {},
   "outputs": [],
   "source": [
    "import sklearn\n",
    "from sklearn.naive_bayes import GaussianNB\n",
    "from sklearn.naive_bayes import BernoulliNB\n",
    "from sklearn.naive_bayes import MultinomialNB\n",
    "\n",
    "from sklearn import tree\n",
    "\n",
    "from sklearn.ensemble import RandomForestClassifier\n",
    "from sklearn.ensemble import GradientBoostingClassifier\n",
    "\n",
    "from sklearn import model_selection\n",
    "from sklearn.model_selection import train_test_split\n",
    "from sklearn.model_selection import GridSearchCV\n",
    "from sklearn.model_selection import KFold\n",
    "from sklearn.model_selection import cross_val_score\n",
    "from sklearn.model_selection import cross_val_predict\n",
    "\n",
    "from sklearn import metrics\n",
    "from sklearn.metrics import classification_report\n",
    "from sklearn.metrics import confusion_matrix\n",
    "from sklearn.metrics import accuracy_score\n",
    "from sklearn.metrics import roc_auc_score\n",
    "\n",
    "from imblearn.over_sampling import SMOTE, ADASYN\n"
   ]
  },
  {
   "cell_type": "code",
   "execution_count": 83,
   "metadata": {},
   "outputs": [],
   "source": [
    "# results table\n",
    "names = run_df.columns\n",
    "names_index = names[1:]\n",
    "\n",
    "log_cols = ['Classifier - Dataset', 'Accuracy', 'Precision Score', 'Recall Score', 'F1-Score', 'roc-auc-score']\n",
    "log = pd.DataFrame(columns=log_cols)"
   ]
  },
  {
   "cell_type": "code",
   "execution_count": 84,
   "metadata": {},
   "outputs": [],
   "source": [
    "test_size = 0.3\n",
    "seed = 15\n",
    "X_train, X_test, y_train, y_test = model_selection.train_test_split(X, Y, test_size=test_size, random_state=seed)"
   ]
  },
  {
   "cell_type": "markdown",
   "metadata": {},
   "source": [
    "### Gaussian Naive Bayes\n",
    "\n",
    "https://blog.sicara.com/naive-bayes-classifier-sklearn-python-example-tips-42d100429e44"
   ]
  },
  {
   "cell_type": "code",
   "execution_count": 85,
   "metadata": {},
   "outputs": [
    {
     "data": {
      "text/html": [
       "<div>\n",
       "<style scoped>\n",
       "    .dataframe tbody tr th:only-of-type {\n",
       "        vertical-align: middle;\n",
       "    }\n",
       "\n",
       "    .dataframe tbody tr th {\n",
       "        vertical-align: top;\n",
       "    }\n",
       "\n",
       "    .dataframe thead th {\n",
       "        text-align: right;\n",
       "    }\n",
       "</style>\n",
       "<table border=\"1\" class=\"dataframe\">\n",
       "  <thead>\n",
       "    <tr style=\"text-align: right;\">\n",
       "      <th></th>\n",
       "      <th>Classifier - Dataset</th>\n",
       "      <th>Accuracy</th>\n",
       "      <th>Precision Score</th>\n",
       "      <th>Recall Score</th>\n",
       "      <th>F1-Score</th>\n",
       "      <th>roc-auc-score</th>\n",
       "    </tr>\n",
       "  </thead>\n",
       "  <tbody>\n",
       "    <tr>\n",
       "      <th>0</th>\n",
       "      <td>GaussianNB - cv</td>\n",
       "      <td>0.837225</td>\n",
       "      <td>0.322106</td>\n",
       "      <td>0.399762</td>\n",
       "      <td>0.356053</td>\n",
       "      <td>0.723728</td>\n",
       "    </tr>\n",
       "    <tr>\n",
       "      <th>0</th>\n",
       "      <td>GaussianNB - test</td>\n",
       "      <td>0.843773</td>\n",
       "      <td>0.654038</td>\n",
       "      <td>0.680290</td>\n",
       "      <td>0.665238</td>\n",
       "      <td>0.654038</td>\n",
       "    </tr>\n",
       "  </tbody>\n",
       "</table>\n",
       "</div>"
      ],
      "text/plain": [
       "  Classifier - Dataset  Accuracy  Precision Score  Recall Score  F1-Score  \\\n",
       "0      GaussianNB - cv  0.837225         0.322106      0.399762  0.356053   \n",
       "0    GaussianNB - test  0.843773         0.654038      0.680290  0.665238   \n",
       "\n",
       "   roc-auc-score  \n",
       "0       0.723728  \n",
       "0       0.654038  "
      ]
     },
     "execution_count": 85,
     "metadata": {},
     "output_type": "execute_result"
    }
   ],
   "source": [
    "name = 'GaussianNB'\n",
    "clf = GaussianNB()\n",
    "# cross valification\n",
    "cv_10_name = name + ' - cv'\n",
    "cv_10_accuracy = cross_val_score(clf, X_train, y_train, scoring='accuracy', cv = 10).mean()\n",
    "cv_10_precision = cross_val_score(clf, X_train, y_train, scoring='precision', cv = 10).mean()\n",
    "cv_10_recall = cross_val_score(clf, X_train, y_train, scoring='recall', cv = 10).mean()\n",
    "cv_10_f1 = cross_val_score(clf, X_train, y_train, scoring='f1', cv = 10).mean()\n",
    "cv_10_roc_auc = cross_val_score(clf, X_train, y_train, scoring='roc_auc', cv = 10).mean()\n",
    "log_entry = pd.DataFrame([[cv_10_name,cv_10_accuracy,cv_10_precision,cv_10_recall,cv_10_f1,cv_10_roc_auc]], columns=log_cols)\n",
    "log = log.append(log_entry)\n",
    "\n",
    "# fitting model\n",
    "clf.fit(X_train,y_train)\n",
    "test_name = name + ' - test'\n",
    "pred=clf.predict(X_test)\n",
    "accuracy = metrics.accuracy_score(y_test,pred)\n",
    "precision = metrics.precision_score(y_test,pred,average='macro')\n",
    "recall = metrics.recall_score(y_test,pred,average='macro')\n",
    "f1_score = metrics.f1_score(y_test,pred,average='macro')\n",
    "roc_auc = metrics.roc_auc_score(pred,y_test)\n",
    "log_entry = pd.DataFrame([[test_name,accuracy,precision,recall,f1_score,roc_auc]], columns=log_cols)\n",
    "log = log.append(log_entry)\n",
    "log"
   ]
  },
  {
   "cell_type": "markdown",
   "metadata": {},
   "source": [
    "### BernoulliNB"
   ]
  },
  {
   "cell_type": "code",
   "execution_count": 87,
   "metadata": {},
   "outputs": [
    {
     "data": {
      "text/html": [
       "<div>\n",
       "<style scoped>\n",
       "    .dataframe tbody tr th:only-of-type {\n",
       "        vertical-align: middle;\n",
       "    }\n",
       "\n",
       "    .dataframe tbody tr th {\n",
       "        vertical-align: top;\n",
       "    }\n",
       "\n",
       "    .dataframe thead th {\n",
       "        text-align: right;\n",
       "    }\n",
       "</style>\n",
       "<table border=\"1\" class=\"dataframe\">\n",
       "  <thead>\n",
       "    <tr style=\"text-align: right;\">\n",
       "      <th></th>\n",
       "      <th>Classifier - Dataset</th>\n",
       "      <th>Accuracy</th>\n",
       "      <th>Precision Score</th>\n",
       "      <th>Recall Score</th>\n",
       "      <th>F1-Score</th>\n",
       "      <th>roc-auc-score</th>\n",
       "    </tr>\n",
       "  </thead>\n",
       "  <tbody>\n",
       "    <tr>\n",
       "      <th>0</th>\n",
       "      <td>GaussianNB - cv</td>\n",
       "      <td>0.837225</td>\n",
       "      <td>0.322106</td>\n",
       "      <td>0.399762</td>\n",
       "      <td>0.356053</td>\n",
       "      <td>0.723728</td>\n",
       "    </tr>\n",
       "    <tr>\n",
       "      <th>0</th>\n",
       "      <td>GaussianNB - test</td>\n",
       "      <td>0.843773</td>\n",
       "      <td>0.654038</td>\n",
       "      <td>0.680290</td>\n",
       "      <td>0.665238</td>\n",
       "      <td>0.654038</td>\n",
       "    </tr>\n",
       "    <tr>\n",
       "      <th>0</th>\n",
       "      <td>BernoulliNB - cv</td>\n",
       "      <td>0.877371</td>\n",
       "      <td>0.255684</td>\n",
       "      <td>0.061825</td>\n",
       "      <td>0.097518</td>\n",
       "      <td>0.641662</td>\n",
       "    </tr>\n",
       "    <tr>\n",
       "      <th>0</th>\n",
       "      <td>BernoulliNB - test</td>\n",
       "      <td>0.881356</td>\n",
       "      <td>0.743318</td>\n",
       "      <td>0.540983</td>\n",
       "      <td>0.546628</td>\n",
       "      <td>0.743318</td>\n",
       "    </tr>\n",
       "  </tbody>\n",
       "</table>\n",
       "</div>"
      ],
      "text/plain": [
       "  Classifier - Dataset  Accuracy  Precision Score  Recall Score  F1-Score  \\\n",
       "0      GaussianNB - cv  0.837225         0.322106      0.399762  0.356053   \n",
       "0    GaussianNB - test  0.843773         0.654038      0.680290  0.665238   \n",
       "0     BernoulliNB - cv  0.877371         0.255684      0.061825  0.097518   \n",
       "0   BernoulliNB - test  0.881356         0.743318      0.540983  0.546628   \n",
       "\n",
       "   roc-auc-score  \n",
       "0       0.723728  \n",
       "0       0.654038  \n",
       "0       0.641662  \n",
       "0       0.743318  "
      ]
     },
     "execution_count": 87,
     "metadata": {},
     "output_type": "execute_result"
    }
   ],
   "source": [
    "name = 'BernoulliNB'\n",
    "clf = BernoulliNB()\n",
    "clf.fit(X_train,y_train)\n",
    "pred=clf.predict(X_test)\n",
    "\n",
    "cv_10_name = name + ' - cv'\n",
    "cv_10_accuracy = cross_val_score(clf, X_train, y_train, scoring='accuracy', cv = 10).mean()\n",
    "cv_10_precision = cross_val_score(clf, X_train, y_train, scoring='precision', cv = 10).mean()\n",
    "cv_10_recall = cross_val_score(clf, X_train, y_train, scoring='recall', cv = 10).mean()\n",
    "cv_10_f1 = cross_val_score(clf, X_train, y_train, scoring='f1', cv = 10).mean()\n",
    "cv_10_roc_auc = cross_val_score(clf, X_train, y_train, scoring='roc_auc', cv = 10).mean()\n",
    "log_entry = pd.DataFrame([[cv_10_name,cv_10_accuracy,cv_10_precision,cv_10_recall,cv_10_f1,cv_10_roc_auc]], columns=log_cols)\n",
    "log = log.append(log_entry)\n",
    "\n",
    "# fitting model\n",
    "clf.fit(X_train,y_train)\n",
    "test_name = name + ' - test'\n",
    "pred=clf.predict(X_test)\n",
    "accuracy = metrics.accuracy_score(y_test,pred)\n",
    "precision = metrics.precision_score(y_test,pred,average='macro')\n",
    "recall = metrics.recall_score(y_test,pred,average='macro')\n",
    "f1_score = metrics.f1_score(y_test,pred,average='macro')\n",
    "roc_auc = metrics.roc_auc_score(pred,y_test)\n",
    "log_entry = pd.DataFrame([[test_name,accuracy,precision,recall,f1_score,roc_auc]], columns=log_cols)\n",
    "log = log.append(log_entry)\n",
    "log"
   ]
  },
  {
   "cell_type": "code",
   "execution_count": 187,
   "metadata": {},
   "outputs": [
    {
     "name": "stdout",
     "output_type": "stream",
     "text": [
      "Accuracy:  0.877 (+/-  0.004)\n",
      "train accuracy of BernoulliNB classifier 87.99\n",
      "test accuracy of BernoulliNB classifier 88.14\n"
     ]
    }
   ],
   "source": [
    "score=cross_val_score(ber, X_train, y_train, scoring='accuracy', cv = 10)\n",
    "print('Accuracy: {0: 0.3f} (+/- {1: 0.3f})'.format(score.mean(), score.std() / 2))\n",
    "accuracy_train=round(ber.score(X_train, y_train)*100,2)\n",
    "print('train accuracy of BernoulliNB classifier',accuracy_train)\n",
    "accuracy_test=round(ber.score(X_test, y_test)*100,2)\n",
    "print('test accuracy of BernoulliNB classifier',accuracy_test)"
   ]
  },
  {
   "cell_type": "markdown",
   "metadata": {},
   "source": [
    "### Gradient Boosting Classifier\n",
    "\n",
    "https://machinelearningmastery.com/gentle-introduction-gradient-boosting-algorithm-machine-learning/"
   ]
  },
  {
   "cell_type": "code",
   "execution_count": 170,
   "metadata": {},
   "outputs": [],
   "source": [
    "Name = 'GradientBoostingClassifier'\n",
    "gbc = GradientBoostingClassifier(n_estimators=100, random_state=seed)\n",
    "gbc.fit(X_train, y_train)\n",
    "pred=gbc.predict(X_test)\n",
    "\n",
    "accuracy = metrics.accuracy_score(y_test,pred)\n",
    "precision = metrics.precision_score(y_test,pred,average='macro')\n",
    "recall = metrics.recall_score(y_test,pred,average='macro')\n",
    "f1_score = metrics.f1_score(y_test,pred,average='macro')\n",
    "roc_auc = metrics.roc_auc_score(pred,y_test)\n",
    "cv_10 = cross_val_score(gbc, X_train, y_train, scoring='accuracy', cv = 10).mean()\n",
    "cv_3 = cross_val_score(gbc, X_train, y_train, scoring='accuracy', cv = 3).mean()\n",
    "\n",
    "log_entry = pd.DataFrame([[Name,accuracy,precision,recall,f1_score,roc_auc,cv_10,cv_3]], columns=log_cols)\n",
    "log = log.append(log_entry)"
   ]
  },
  {
   "cell_type": "code",
   "execution_count": 171,
   "metadata": {},
   "outputs": [],
   "source": [
    "res_list=list(zip(names_index, gbc.feature_importances_))\n",
    "results_gbc = pd.DataFrame(res_list,columns=['feature','importance'])\n",
    "results_gbc = results_gbc[['feature','importance']].sort_values(by='importance', ascending=False)"
   ]
  },
  {
   "cell_type": "markdown",
   "metadata": {},
   "source": [
    "### Decision Tree"
   ]
  },
  {
   "cell_type": "code",
   "execution_count": 141,
   "metadata": {},
   "outputs": [
    {
     "name": "stdout",
     "output_type": "stream",
     "text": [
      "Best Parameters using grid search: {'criterion': 'entropy', 'max_depth': 3, 'max_features': None}\n"
     ]
    }
   ],
   "source": [
    "dt = tree.DecisionTreeClassifier(random_state=seed)\n",
    "\n",
    "param_dist = {'max_depth': [3, 5, None],\n",
    "              'max_features': ['auto', 'sqrt', 'log2', None],\n",
    "              'criterion': ['gini', 'entropy']}\n",
    "\n",
    "cv_dt = GridSearchCV(dt, cv = 10,\n",
    "                     param_grid=param_dist,\n",
    "                     n_jobs = 3)\n",
    "\n",
    "cv_dt.fit(X_train, y_train)\n",
    "print('Best Parameters using grid search:',cv_dt.best_params_)"
   ]
  },
  {
   "cell_type": "code",
   "execution_count": 142,
   "metadata": {},
   "outputs": [],
   "source": [
    "# Decision tree with depth = 3\n",
    "Name = 'DecisionTree'\n",
    "dt = tree.DecisionTreeClassifier(random_state=seed, max_depth=3)\n",
    "dt.fit(X_train, y_train)\n",
    "pred=dt.predict(X_test)\n",
    "\n",
    "accuracy = metrics.accuracy_score(y_test,pred)\n",
    "precision = metrics.precision_score(y_test,pred,average='macro')\n",
    "recall = metrics.recall_score(y_test,pred,average='macro')\n",
    "f1_score = metrics.f1_score(y_test,pred,average='macro')\n",
    "roc_auc = metrics.roc_auc_score(y_test,pred)\n",
    "cv_10 = cross_val_score(dt, X_train, y_train, scoring='accuracy', cv = 10).mean()\n",
    "cv_3 = cross_val_score(dt, X_train, y_train, scoring='accuracy', cv = 3).mean()\n",
    "\n",
    "log_entry = pd.DataFrame([[Name,accuracy,precision,recall,f1_score,roc_auc,cv_10,cv_3]], columns=log_cols)\n",
    "log = log.append(log_entry)"
   ]
  },
  {
   "cell_type": "code",
   "execution_count": 143,
   "metadata": {},
   "outputs": [],
   "source": [
    "res_list=list(zip(names_index, dt.feature_importances_))\n",
    "results_dt = pd.DataFrame(res_list,columns=['feature','importance'])\n",
    "results_dt = results_dt[['feature','importance']].sort_values(by='importance', ascending=False)"
   ]
  },
  {
   "cell_type": "code",
   "execution_count": 144,
   "metadata": {},
   "outputs": [
    {
     "name": "stdout",
     "output_type": "stream",
     "text": [
      "train accuracy of decision tree classifier 89.44\n",
      "test accuracy of decision tree classifier 88.65\n"
     ]
    }
   ],
   "source": [
    "accuracy_train=round(dt.score(X_train, y_train)*100,2)\n",
    "print('train accuracy of decision tree classifier',accuracy_train)\n",
    "accuracy_test=round(dt.score(X_test, y_test)*100,2)\n",
    "print('test accuracy of decision tree classifier',accuracy_test)"
   ]
  },
  {
   "cell_type": "markdown",
   "metadata": {},
   "source": [
    "### Random Forest"
   ]
  },
  {
   "cell_type": "code",
   "execution_count": 145,
   "metadata": {},
   "outputs": [
    {
     "name": "stdout",
     "output_type": "stream",
     "text": [
      "Best Parameters using grid search: {'bootstrap': True, 'criterion': 'entropy', 'max_depth': 4, 'max_features': None}\n"
     ]
    },
    {
     "name": "stderr",
     "output_type": "stream",
     "text": [
      "C:\\Users\\rdryden\\AppData\\Local\\Continuum\\anaconda3\\lib\\site-packages\\sklearn\\ensemble\\forest.py:246: FutureWarning: The default value of n_estimators will change from 10 in version 0.20 to 100 in 0.22.\n",
      "  \"10 in version 0.20 to 100 in 0.22.\", FutureWarning)\n"
     ]
    }
   ],
   "source": [
    "rf = RandomForestClassifier(random_state=seed)\n",
    "param_dist = {'max_depth': [2, 3, 4],\n",
    "              'bootstrap': [True, False],\n",
    "              'max_features': ['auto', 'sqrt', 'log2', None],\n",
    "              'criterion': ['gini', 'entropy']}\n",
    "\n",
    "cv_rf = GridSearchCV(rf, cv = 10,\n",
    "                     param_grid=param_dist,\n",
    "                     n_jobs = 3)\n",
    "\n",
    "cv_rf.fit(X_train, y_train)\n",
    "print('Best Parameters using grid search:',cv_rf.best_params_)"
   ]
  },
  {
   "cell_type": "code",
   "execution_count": 146,
   "metadata": {},
   "outputs": [],
   "source": [
    "Name = 'RandomForest'\n",
    "rf = RandomForestClassifier(n_estimators = 100, random_state = seed)\n",
    "rf.fit(X_train, y_train)\n",
    "pred=rf.predict(X_test)\n",
    "\n",
    "accuracy = metrics.accuracy_score(y_test,pred)\n",
    "precision = metrics.precision_score(y_test,pred,average='macro')\n",
    "recall = metrics.recall_score(y_test,pred,average='macro')\n",
    "f1_score = metrics.f1_score(y_test,pred,average='macro')\n",
    "roc_auc = metrics.roc_auc_score(pred,y_test)\n",
    "cv_10KFold = cross_val_score(rf, X_train, y_train, scoring='accuracy', cv = 10).mean()\n",
    "cv_3KFold = cross_val_score(rf, X_train, y_train, scoring='accuracy', cv = 3).mean()\n",
    "\n",
    "log_entry = pd.DataFrame([[Name,accuracy,precision,recall,f1_score,roc_auc,cv_10,cv_3]], columns=log_cols)\n",
    "log = log.append(log_entry)"
   ]
  },
  {
   "cell_type": "code",
   "execution_count": 147,
   "metadata": {},
   "outputs": [],
   "source": [
    "res_list=list(zip(names_index, rf.feature_importances_))\n",
    "results_rf = pd.DataFrame(res_list,columns=['feature','importance'])\n",
    "results_rf = results_rf[['feature','importance']].sort_values(by='importance', ascending=False)"
   ]
  },
  {
   "cell_type": "markdown",
   "metadata": {},
   "source": [
    "### Resample - DecisionTree - SMOTE\n",
    "\n",
    "https://towardsdatascience.com/building-a-logistic-regression-in-python-step-by-step-becd4d56c9c8\n",
    "\n",
    "https://imbalanced-learn.org/en/stable/over_sampling.html#from-random-over-sampling-to-smote-and-adasyn"
   ]
  },
  {
   "cell_type": "code",
   "execution_count": 148,
   "metadata": {},
   "outputs": [],
   "source": [
    "X_resampled, y_resampled = SMOTE().fit_resample(X, Y)\n",
    "X_retrain, X_retest, y_retrain, y_retest = train_test_split(X_resampled, y_resampled, test_size=test_size, random_state=seed)"
   ]
  },
  {
   "cell_type": "code",
   "execution_count": 149,
   "metadata": {},
   "outputs": [],
   "source": [
    "Name = 'DecisionTree SMOTE'\n",
    "dtSMOTE = tree.DecisionTreeClassifier(random_state=seed, max_depth=3)\n",
    "dtSMOTE.fit(X_retrain, y_retrain)\n",
    "pred=dtSMOTE.predict(X_retest)\n",
    "\n",
    "accuracy = metrics.accuracy_score(y_retest,pred)\n",
    "precision = metrics.precision_score(y_retest,pred,average='macro')\n",
    "recall = metrics.recall_score(y_retest,pred,average='macro')\n",
    "f1_score = metrics.f1_score(y_retest,pred,average='macro')\n",
    "roc_auc = metrics.roc_auc_score(y_retest,pred)\n",
    "cv_10 = cross_val_score(dtSMOTE, X_retrain, y_retrain, scoring='accuracy', cv = 10).mean()\n",
    "cv_3 = cross_val_score(dtSMOTE, X_retrain, y_retrain, scoring='accuracy', cv = 3).mean()\n",
    "\n",
    "log_entry = pd.DataFrame([[Name,accuracy,precision,recall,f1_score,roc_auc,cv_10,cv_3]], columns=log_cols)\n",
    "log = log.append(log_entry)"
   ]
  },
  {
   "cell_type": "code",
   "execution_count": 150,
   "metadata": {},
   "outputs": [],
   "source": [
    "res_list=list(zip(names_index, dtSMOTE.feature_importances_))\n",
    "results_SMOTE = pd.DataFrame(res_list,columns=['feature','importance'])\n",
    "results_SMOTE = results_SMOTE[['feature','importance']].sort_values(by='importance', ascending=False)"
   ]
  },
  {
   "cell_type": "markdown",
   "metadata": {},
   "source": [
    "### Resample - DecisionTree - ADASYN"
   ]
  },
  {
   "cell_type": "code",
   "execution_count": 151,
   "metadata": {},
   "outputs": [],
   "source": [
    "X_resampled, y_resampled = ADASYN().fit_resample(X, Y)\n",
    "X_retrain, X_retest, y_retrain, y_retest = train_test_split(X_resampled, y_resampled, test_size=test_size, random_state=seed)"
   ]
  },
  {
   "cell_type": "code",
   "execution_count": 152,
   "metadata": {},
   "outputs": [],
   "source": [
    "Name = 'DecisionTree ADASYN'\n",
    "dtADASYN = tree.DecisionTreeClassifier(random_state=seed, max_depth=3)\n",
    "dtADASYN.fit(X_retrain, y_retrain)\n",
    "pred=dtADASYN.predict(X_retest)\n",
    "\n",
    "accuracy = metrics.accuracy_score(y_retest,pred)\n",
    "precision = metrics.precision_score(y_retest,pred,average='macro')\n",
    "recall = metrics.recall_score(y_retest,pred,average='macro')\n",
    "f1_score = metrics.f1_score(y_retest,pred,average='macro')\n",
    "roc_auc = metrics.roc_auc_score(y_retest,pred)\n",
    "cv_10 = cross_val_score(dtADASYN, X_retrain, y_retrain, scoring='accuracy', cv = 10).mean()\n",
    "cv_3 = cross_val_score(dtADASYN, X_retrain, y_retrain, scoring='accuracy', cv = 3).mean()\n",
    "\n",
    "log_entry = pd.DataFrame([[Name,accuracy,precision,recall,f1_score,roc_auc,cv_10,cv_3]], columns=log_cols)\n",
    "log = log.append(log_entry)"
   ]
  },
  {
   "cell_type": "code",
   "execution_count": 153,
   "metadata": {},
   "outputs": [],
   "source": [
    "res_list=list(zip(names_index, dtADASYN.feature_importances_))\n",
    "results_ADASYN = pd.DataFrame(res_list,columns=['feature','importance'])\n",
    "results_ADASYN = results_ADASYN[['feature','importance']].sort_values(by='importance', ascending=False)"
   ]
  },
  {
   "cell_type": "markdown",
   "metadata": {},
   "source": [
    "# Results"
   ]
  },
  {
   "cell_type": "code",
   "execution_count": 175,
   "metadata": {},
   "outputs": [
    {
     "data": {
      "text/html": [
       "<div>\n",
       "<style scoped>\n",
       "    .dataframe tbody tr th:only-of-type {\n",
       "        vertical-align: middle;\n",
       "    }\n",
       "\n",
       "    .dataframe tbody tr th {\n",
       "        vertical-align: top;\n",
       "    }\n",
       "\n",
       "    .dataframe thead th {\n",
       "        text-align: right;\n",
       "    }\n",
       "</style>\n",
       "<table border=\"1\" class=\"dataframe\">\n",
       "  <thead>\n",
       "    <tr style=\"text-align: right;\">\n",
       "      <th></th>\n",
       "      <th>Classifier</th>\n",
       "      <th>Accuracy</th>\n",
       "      <th>Precision Score</th>\n",
       "      <th>Recall Score</th>\n",
       "      <th>F1-Score</th>\n",
       "      <th>roc-auc_Score</th>\n",
       "      <th>cv_10</th>\n",
       "      <th>cv_3</th>\n",
       "    </tr>\n",
       "  </thead>\n",
       "  <tbody>\n",
       "    <tr>\n",
       "      <th>0</th>\n",
       "      <td>GaussianNB</td>\n",
       "      <td>0.843773</td>\n",
       "      <td>0.654038</td>\n",
       "      <td>0.680290</td>\n",
       "      <td>0.665238</td>\n",
       "      <td>0.654038</td>\n",
       "      <td>0.837225</td>\n",
       "      <td>0.653506</td>\n",
       "    </tr>\n",
       "    <tr>\n",
       "      <th>0</th>\n",
       "      <td>GradientBoostingClassifier</td>\n",
       "      <td>0.881356</td>\n",
       "      <td>0.717839</td>\n",
       "      <td>0.600604</td>\n",
       "      <td>0.627839</td>\n",
       "      <td>0.717839</td>\n",
       "      <td>0.887488</td>\n",
       "      <td>0.885905</td>\n",
       "    </tr>\n",
       "    <tr>\n",
       "      <th>0</th>\n",
       "      <td>DecisionTree</td>\n",
       "      <td>0.886514</td>\n",
       "      <td>0.771849</td>\n",
       "      <td>0.572436</td>\n",
       "      <td>0.595512</td>\n",
       "      <td>0.572436</td>\n",
       "      <td>0.887804</td>\n",
       "      <td>0.886220</td>\n",
       "    </tr>\n",
       "    <tr>\n",
       "      <th>0</th>\n",
       "      <td>RandomForest</td>\n",
       "      <td>0.869565</td>\n",
       "      <td>0.663547</td>\n",
       "      <td>0.583518</td>\n",
       "      <td>0.602931</td>\n",
       "      <td>0.663547</td>\n",
       "      <td>0.887804</td>\n",
       "      <td>0.886220</td>\n",
       "    </tr>\n",
       "    <tr>\n",
       "      <th>0</th>\n",
       "      <td>DecisionTree SMOTE</td>\n",
       "      <td>0.795417</td>\n",
       "      <td>0.798035</td>\n",
       "      <td>0.794934</td>\n",
       "      <td>0.794767</td>\n",
       "      <td>0.794934</td>\n",
       "      <td>0.785181</td>\n",
       "      <td>0.784825</td>\n",
       "    </tr>\n",
       "    <tr>\n",
       "      <th>0</th>\n",
       "      <td>DecisionTree ADASYN</td>\n",
       "      <td>0.792648</td>\n",
       "      <td>0.792645</td>\n",
       "      <td>0.792640</td>\n",
       "      <td>0.792642</td>\n",
       "      <td>0.792640</td>\n",
       "      <td>0.774093</td>\n",
       "      <td>0.774258</td>\n",
       "    </tr>\n",
       "    <tr>\n",
       "      <th>0</th>\n",
       "      <td>GradientBoostingClassifier</td>\n",
       "      <td>0.879882</td>\n",
       "      <td>0.710850</td>\n",
       "      <td>0.579026</td>\n",
       "      <td>0.601811</td>\n",
       "      <td>0.710850</td>\n",
       "      <td>0.890017</td>\n",
       "      <td>0.888433</td>\n",
       "    </tr>\n",
       "    <tr>\n",
       "      <th>0</th>\n",
       "      <td>BernoulliNB</td>\n",
       "      <td>0.881356</td>\n",
       "      <td>0.743318</td>\n",
       "      <td>0.540983</td>\n",
       "      <td>0.546628</td>\n",
       "      <td>0.743318</td>\n",
       "      <td>0.877371</td>\n",
       "      <td>0.875157</td>\n",
       "    </tr>\n",
       "  </tbody>\n",
       "</table>\n",
       "</div>"
      ],
      "text/plain": [
       "                   Classifier  Accuracy  Precision Score  Recall Score  \\\n",
       "0                  GaussianNB  0.843773         0.654038      0.680290   \n",
       "0  GradientBoostingClassifier  0.881356         0.717839      0.600604   \n",
       "0                DecisionTree  0.886514         0.771849      0.572436   \n",
       "0                RandomForest  0.869565         0.663547      0.583518   \n",
       "0          DecisionTree SMOTE  0.795417         0.798035      0.794934   \n",
       "0         DecisionTree ADASYN  0.792648         0.792645      0.792640   \n",
       "0  GradientBoostingClassifier  0.879882         0.710850      0.579026   \n",
       "0                 BernoulliNB  0.881356         0.743318      0.540983   \n",
       "\n",
       "   F1-Score  roc-auc_Score     cv_10      cv_3  \n",
       "0  0.665238       0.654038  0.837225  0.653506  \n",
       "0  0.627839       0.717839  0.887488  0.885905  \n",
       "0  0.595512       0.572436  0.887804  0.886220  \n",
       "0  0.602931       0.663547  0.887804  0.886220  \n",
       "0  0.794767       0.794934  0.785181  0.784825  \n",
       "0  0.792642       0.792640  0.774093  0.774258  \n",
       "0  0.601811       0.710850  0.890017  0.888433  \n",
       "0  0.546628       0.743318  0.877371  0.875157  "
      ]
     },
     "execution_count": 175,
     "metadata": {},
     "output_type": "execute_result"
    }
   ],
   "source": [
    "log"
   ]
  },
  {
   "cell_type": "code",
   "execution_count": 156,
   "metadata": {},
   "outputs": [
    {
     "data": {
      "text/plain": [
       "Text(0.5,1,'Decision Tree')"
      ]
     },
     "execution_count": 156,
     "metadata": {},
     "output_type": "execute_result"
    },
    {
     "data": {
      "image/png": "[encoded data removed]",
      "text/plain": [
       "<Figure size 1440x864 with 2 Axes>"
      ]
     },
     "metadata": {},
     "output_type": "display_data"
    }
   ],
   "source": [
    "fig, axes = plt.subplots(1,2,figsize=(20,12))\n",
    "sns.barplot(x='importance',y='feature',data=results_rf, color='b',ci=None, ax=axes[0])\n",
    "axes[0].set_title('Random Forest')\n",
    "sns.barplot(x='importance',y='feature',data=results_dt, color='b',ci=None, ax=axes[1])\n",
    "axes[1].set_title('Decision Tree')"
   ]
  },
  {
   "cell_type": "code",
   "execution_count": 157,
   "metadata": {},
   "outputs": [
    {
     "data": {
      "text/plain": [
       "Text(0.5,1,'Decision Tree ADASYN')"
      ]
     },
     "execution_count": 157,
     "metadata": {},
     "output_type": "execute_result"
    },
    {
     "data": {
      "image/png": "[encoded data removed]",
      "text/plain": [
       "<Figure size 1440x864 with 2 Axes>"
      ]
     },
     "metadata": {},
     "output_type": "display_data"
    }
   ],
   "source": [
    "fig, axes = plt.subplots(1,2,figsize=(20,12))\n",
    "sns.barplot(x='importance',y='feature',data=results_SMOTE, color='b',ci=None, ax=axes[0])\n",
    "axes[0].set_title('Decision Tree SMOTE')\n",
    "sns.barplot(x='importance',y='feature',data=results_ADASYN, color='b',ci=None, ax=axes[1])\n",
    "axes[1].set_title('Decision Tree ADASYN')"
   ]
  },
  {
   "cell_type": "code",
   "execution_count": 218,
   "metadata": {},
   "outputs": [
    {
     "data": {
      "text/plain": [
       "Text(0.5,1,'correlation')"
      ]
     },
     "execution_count": 218,
     "metadata": {},
     "output_type": "execute_result"
    },
    {
     "data": {
      "image/png": "[encoded data removed]",
      "text/plain": [
       "<Figure size 1440x864 with 2 Axes>"
      ]
     },
     "metadata": {},
     "output_type": "display_data"
    }
   ],
   "source": [
    "fig, axes = plt.subplots(1,2,figsize=(20,12))\n",
    "sns.barplot(x='importance',y='feature',data=results_gbc, color='b',ci=None, ax=axes[0])\n",
    "axes[0].set_title('Gradient Boosting Classifier')\n",
    "sns.barplot(x='correlation',y='feature',data=results_corr, color='b',ci=None, ax=axes[1])\n",
    "axes[1].set_title('correlation')"
   ]
  },
  {
   "cell_type": "markdown",
   "metadata": {},
   "source": [
    "Some helpful links\n",
    "\n",
    "https://towardsdatascience.com/building-a-logistic-regression-in-python-step-by-step-becd4d56c9c8\n",
    "\n",
    "https://www.kaggle.com/mayurjain/ml-bank-marketing-solution\n",
    "\n",
    "https://towardsdatascience.com/random-forest-in-python-24d0893d51c0\n",
    "\n",
    "https://medium.com/@williamkoehrsen/random-forest-simple-explanation-377895a60d2d\n",
    "\n",
    "re-run the models for more accurate results \n",
    "present evaluation results cross-validation\n",
    "test accuracy and cross val. should be similar.  this will tell you if model is generalized\n",
    "what is the re-call metric concept. - recall is ratio about what was correctly predicted.\n",
    "need to use over-sampling\n",
    "\n",
    "use gridsearchCV to optimze hyperparameters for decision tree models\n",
    "\n",
    "show validation and test accuracy together. SHOW THE MODEL IS GENERALIZED\n"
   ]
  },
  {
   "cell_type": "code",
   "execution_count": null,
   "metadata": {},
   "outputs": [],
   "source": []
  }
 ],
 "metadata": {
  "kernelspec": {
   "display_name": "Python 3",
   "language": "python",
   "name": "python3"
  },
  "language_info": {
   "codemirror_mode": {
    "name": "ipython",
    "version": 3
   },
   "file_extension": ".py",
   "mimetype": "text/x-python",
   "name": "python",
   "nbconvert_exporter": "python",
   "pygments_lexer": "ipython3",
   "version": "3.6.5"
  }
 },
 "nbformat": 4,
 "nbformat_minor": 2
}
